{
 "cells": [
  {
   "cell_type": "markdown",
   "metadata": {},
   "source": [
    "# Training Classifiers (Section 4)"
   ]
  },
  {
   "cell_type": "markdown",
   "metadata": {},
   "source": [
    "## Import directories"
   ]
  },
  {
   "cell_type": "code",
   "execution_count": 1,
   "metadata": {},
   "outputs": [],
   "source": [
    "# import OpenCV path\n",
    "arg_user = 'TOM'\n",
    "import sys\n",
    "if (arg_user == 'OREN'):\n",
    "    sys.path.append('D:\\Softwares\\Anaconda3\\envs\\opencv-env\\Lib')\n",
    "elif(arg_user == 'TOM'):\n",
    "    sys.path.append('C:/Users/user/AppData/Local/conda/conda/envs/opencv-env/Lib/site-packages')"
   ]
  },
  {
   "cell_type": "code",
   "execution_count": 2,
   "metadata": {},
   "outputs": [],
   "source": [
    "import pandas as pd\n",
    "from sklearn.model_selection import train_test_split\n",
    "from sklearn.naive_bayes import GaussianNB\n",
    "from sklearn.metrics import accuracy_score\n",
    "import numpy as np\n",
    "import seaborn as sns\n",
    "from sklearn.metrics import confusion_matrix\n",
    "import matplotlib.pyplot as plt\n",
    "from sklearn.neighbors import KNeighborsClassifier\n",
    "from sklearn.model_selection import cross_val_score\n",
    "from sklearn.model_selection import StratifiedKFold, ShuffleSplit, KFold\n",
    "from sklearn.decomposition import PCA\n",
    "from sklearn.svm import SVC\n",
    "import cv2\n",
    "%matplotlib inline"
   ]
  },
  {
   "cell_type": "markdown",
   "metadata": {},
   "source": [
    "## Load database"
   ]
  },
  {
   "cell_type": "code",
   "execution_count": 3,
   "metadata": {},
   "outputs": [],
   "source": [
    "df_db_xlsx = pd.ExcelFile(\"files/database_reduced.xlsx\")\n",
    "df_db = pd.read_excel(df_db_xlsx,'database')"
   ]
  },
  {
   "cell_type": "code",
   "execution_count": 4,
   "metadata": {},
   "outputs": [],
   "source": [
    "levels = 5\n",
    "features = ['ear','poly']\n",
    "NUM_FRAMES = 6"
   ]
  },
  {
   "cell_type": "code",
   "execution_count": 5,
   "metadata": {},
   "outputs": [],
   "source": [
    "# Extract number of blinks\n",
    "num_blinks = df_db['blink_number'].nunique()"
   ]
  },
  {
   "cell_type": "markdown",
   "metadata": {},
   "source": [
    "## Add scores from neighboring frames"
   ]
  },
  {
   "cell_type": "code",
   "execution_count": 6,
   "metadata": {},
   "outputs": [],
   "source": [
    "df_db_offset = df_db.copy()\n",
    "\n",
    "for offset in range(NUM_FRAMES*(-1), NUM_FRAMES+1):\n",
    "    # Do something only if the offset isn't zero\n",
    "    if(offset == 0):\n",
    "        continue\n",
    "    \n",
    "    # Run for each blink\n",
    "    for blink_number in range(num_blinks):\n",
    "        \n",
    "        blink_idx = df_db.loc[df_db['blink_number'] == blink_number].index\n",
    "\n",
    "        for i in range(len(blink_idx)):\n",
    "            # Add a column for each selected feature\n",
    "            for feature in features:\n",
    "                new_column = feature + '_' + str(offset)\n",
    "                if (i + offset < 0) or (i + offset > len(blink_idx) - 1):\n",
    "                    df_db_offset.loc[blink_idx[i], new_column] = 1\n",
    "                else:\n",
    "                    df_db_offset.loc[blink_idx[i], new_column]  = df_db_offset.loc[blink_idx[i + offset], feature]"
   ]
  },
  {
   "cell_type": "code",
   "execution_count": 7,
   "metadata": {},
   "outputs": [],
   "source": [
    "df_db_offset = df_db_offset.reset_index(drop=True)"
   ]
  },
  {
   "cell_type": "markdown",
   "metadata": {},
   "source": [
    "## Create X and y vectors"
   ]
  },
  {
   "cell_type": "code",
   "execution_count": 8,
   "metadata": {},
   "outputs": [
    {
     "name": "stdout",
     "output_type": "stream",
     "text": [
      "['ear', 'ear_-6', 'ear_-5', 'ear_-4', 'ear_-3', 'ear_-2', 'ear_-1', 'ear_1', 'ear_2', 'ear_3', 'ear_4', 'ear_5', 'ear_6', 'poly', 'poly_-6', 'poly_-5', 'poly_-4', 'poly_-3', 'poly_-2', 'poly_-1', 'poly_1', 'poly_2', 'poly_3', 'poly_4', 'poly_5', 'poly_6', 'palsy_eye']\n"
     ]
    }
   ],
   "source": [
    "# Add the new columns to the feature list\n",
    "new_features = []\n",
    "\n",
    "for feature in features:\n",
    "    add_cols   = [col for col in df_db_offset.columns if col.startswith(feature)]\n",
    "    new_features = new_features + add_cols\n",
    "new_features.append('palsy_eye')\n",
    "print(new_features)"
   ]
  },
  {
   "cell_type": "code",
   "execution_count": 9,
   "metadata": {},
   "outputs": [],
   "source": [
    "X = df_db_offset[new_features]\n",
    "y = np.array([int(l*4) for l in df_db_offset['label']])"
   ]
  },
  {
   "cell_type": "markdown",
   "metadata": {},
   "source": [
    "## Examine the use of PCA"
   ]
  },
  {
   "cell_type": "code",
   "execution_count": 10,
   "metadata": {},
   "outputs": [
    {
     "data": {
      "image/png": "[encoded data removed]",
      "text/plain": [
       "<Figure size 432x288 with 1 Axes>"
      ]
     },
     "metadata": {
      "needs_background": "light"
     },
     "output_type": "display_data"
    }
   ],
   "source": [
    "#Fitting the PCA algorithm with our Data\n",
    "pca = PCA().fit(X)\n",
    "#Plotting the Cumulative Summation of the Explained Variance\n",
    "plt.figure()\n",
    "plt.plot(np.cumsum(pca.explained_variance_ratio_))\n",
    "plt.xlabel('Number of Components')\n",
    "plt.ylabel('Variance (%)') #for each component\n",
    "plt.title('Dataset Explained Variance')\n",
    "plt.show()"
   ]
  },
  {
   "cell_type": "code",
   "execution_count": 11,
   "metadata": {},
   "outputs": [],
   "source": [
    "# Pefrorm PCA using a lower number support vectors\n",
    "model = PCA(n_components=20)            \n",
    "model.fit(X)                      \n",
    "X_PCA = model.transform(X)         "
   ]
  },
  {
   "cell_type": "markdown",
   "metadata": {},
   "source": [
    "## Define function for cross-validation - split using blink number"
   ]
  },
  {
   "cell_type": "code",
   "execution_count": 10,
   "metadata": {},
   "outputs": [],
   "source": [
    "def cv_blink(df_db_offset, X, y, model, num_cv=5, random_state=0, use_prob=False):\n",
    "    \n",
    "    # Define constants\n",
    "    num_blinks = 436\n",
    "    num_blinks_normal = 214\n",
    "    num_blinks_palsy = num_blinks - num_blinks_normal\n",
    "    \n",
    "    # Assemble an array saving the blink numbers that are not selected yet\n",
    "    normal_choice = range(num_blinks_normal)\n",
    "    palsy_choice  = range(num_blinks_normal, num_blinks)\n",
    "    \n",
    "    # Start cross validation\n",
    "    for i in range(num_cv):\n",
    "        \n",
    "        # Randomize blink numbers for the current test set (size around num_blinks / num_cv)\n",
    "        # Consider the rest as train set\n",
    "        test_mask = np.zeros(len(X), dtype=bool)\n",
    "        np.random.seed(random_state); rnd_idx_normal = sorted(np.random.choice(normal_choice, min(len(normal_choice),int(np.round(num_blinks_normal/num_cv))), replace=False))\n",
    "        np.random.seed(random_state); rnd_idx_palsy = sorted(np.random.choice(palsy_choice, min(len(palsy_choice),int(np.round(num_blinks_palsy/num_cv))), replace=False))\n",
    "        test_mask = np.zeros(len(X), dtype=bool)\n",
    "        test_mask[df_db_offset.loc[df_db_offset['blink_number'].isin(rnd_idx_normal)].index] = True\n",
    "        test_mask[df_db_offset.loc[df_db_offset['blink_number'].isin(rnd_idx_palsy)].index] = True\n",
    "        Xtest, ytest = X[test_mask], y[test_mask]\n",
    "        Xtrain, ytrain = X[~test_mask], y[~test_mask]\n",
    "\n",
    "        # Apply the classifier - train on the train set, then evaluate using the test set\n",
    "        model.fit(Xtrain, ytrain)                  \n",
    "        y_model = model.predict(Xtest)             \n",
    "        \n",
    "        df_db_test_cv = df_db_offset.iloc[Xtest.index,:][['blink_number','video_name','frame_number','eye_location','palsy_eye','label']]\n",
    "        df_db_test_cv.loc[:,'prediction'] = y_model / (levels - 1)\n",
    "\n",
    "        # Add probability estimation info\n",
    "        if use_prob:\n",
    "            pred_pro = model.predict_proba(Xtest)\n",
    "            for j in range(levels):\n",
    "                col_name = 'prob_' + str(j)\n",
    "                df_db_test_cv.loc[:,col_name] = pred_pro[:,j] \n",
    "\n",
    "        # Update test dataframe\n",
    "        if i==0:\n",
    "            df_db_test = df_db_test_cv.copy()\n",
    "        else:\n",
    "            df_db_test = pd.concat([df_db_test, df_db_test_cv])\n",
    "\n",
    "        # Remove the selected blink numbers from the normal and palsy arrays\n",
    "        normal_choice = [num for num in normal_choice if not (num in rnd_idx_normal)]\n",
    "        palsy_choice = [num for num in palsy_choice if not (num in rnd_idx_palsy)]\n",
    "\n",
    "    return df_db_test"
   ]
  },
  {
   "cell_type": "markdown",
   "metadata": {},
   "source": [
    "## Evaluate performance using only the MINIMUM values from each blink"
   ]
  },
  {
   "cell_type": "code",
   "execution_count": 11,
   "metadata": {},
   "outputs": [],
   "source": [
    "def eval_blinks(df_db_test):\n",
    "    \n",
    "    df_db_test = df_db_test.reset_index(drop=True)\n",
    "    y_blink_test = []\n",
    "    y_blink_pred = []\n",
    "\n",
    "    df_db_blink_res = df_db_test.loc[df_db_test['palsy_eye'] == 1, ['blink_number', 'video_name', 'eye_location']].drop_duplicates().reset_index(drop=True)\n",
    "    \n",
    "    for blink in df_db_test['blink_number'].unique():\n",
    "        palsy_eye = min(df_db_test.loc[df_db_test['blink_number'] == blink]['palsy_eye'])\n",
    "        if palsy_eye == 1:\n",
    "            min_label = min(df_db_test.loc[df_db_test['blink_number'] == blink].iloc[1:-1,:]['label'])\n",
    "            df_db_blink_res.loc[df_db_blink_res['blink_number'] == blink, 'min_label'] = min_label\n",
    "            #y_blink_test.append(int(min_label * (levels - 1)))\n",
    "            \n",
    "            min_pred  = min(df_db_test.loc[df_db_test['blink_number'] == blink].iloc[1:-1,:]['prediction'])\n",
    "            min_pred_idx = df_db_test.loc[(df_db_test['blink_number'] == blink) & (df_db_test['prediction'] == min_pred)].index\n",
    "            min_pred_mid = min_pred_idx[min(len(min_pred_idx) - 1, round(len(min_pred_idx)/2))]\n",
    "            min_locs = df_db_test.loc[df_db_test['blink_number'] == blink].loc[min_pred_mid-1:min_pred_mid+1,:]['prediction'].reset_index(drop=True)\n",
    "            if len(min_locs) > 2:\n",
    "                if (min_pred == 0.5 and min_locs[0] == 0.75 and min_locs[2] == 0.75):\n",
    "                    min_pred_final = min_pred\n",
    "                elif (min_pred == 0 and min_locs[0] == 0.75 and min_locs[2] == 1):\n",
    "                    min_pred_final = min_pred\n",
    "                elif (min_pred == 0 and min_locs[0] == 0.25 and min_locs[2] == 0.5):\n",
    "                    min_pred_final = min_pred\n",
    "                elif (min_pred == 0.25 and min_locs[0] == 1 and min_locs[2] == 0.75):\n",
    "                    min_pred_final = min_pred\n",
    "                else:\n",
    "                    min_pred_final = np.median(min_locs)\n",
    "            else:\n",
    "                min_pred_final = np.median(min_locs)\n",
    "\n",
    "            df_db_blink_res.loc[df_db_blink_res['blink_number'] == blink, 'min_pred'] = min_pred_final\n",
    "            #y_blink_pred.append(int(min_pred_final * (levels - 1))\n",
    "\n",
    "    return df_db_blink_res"
   ]
  },
  {
   "cell_type": "markdown",
   "metadata": {},
   "source": [
    "## Try Naive Bayes"
   ]
  },
  {
   "cell_type": "code",
   "execution_count": 16,
   "metadata": {},
   "outputs": [],
   "source": [
    "nb = GaussianNB()                       # 2. instantiate model\n",
    "df_db_test = cv_blink(df_db_offset, X, y, nb, num_cv=5, random_state=0, use_prob=False)"
   ]
  },
  {
   "cell_type": "code",
   "execution_count": 17,
   "metadata": {},
   "outputs": [
    {
     "name": "stdout",
     "output_type": "stream",
     "text": [
      "Accuracy score using Naive Bayes:  0.4985268120212139\n"
     ]
    },
    {
     "data": {
      "image/png": "[encoded data removed]",
      "text/plain": [
       "<Figure size 432x288 with 1 Axes>"
      ]
     },
     "metadata": {
      "needs_background": "light"
     },
     "output_type": "display_data"
    }
   ],
   "source": [
    "# Evaluate score per frame\n",
    "y_test = np.array([int(l*(levels-1)) for l in df_db_test['label']])\n",
    "y_pred = np.array([int(l*(levels-1)) for l in df_db_test['prediction']])\n",
    "\n",
    "mat = confusion_matrix(y_test, y_pred)\n",
    "sns.heatmap(mat, square=True, annot=True, cbar=False)\n",
    "plt.xlabel('predicted value')\n",
    "plt.ylabel('true value')\n",
    "\n",
    "print('Accuracy score using Naive Bayes: ',accuracy_score(y_test, y_pred))"
   ]
  },
  {
   "cell_type": "code",
   "execution_count": 18,
   "metadata": {},
   "outputs": [
    {
     "name": "stdout",
     "output_type": "stream",
     "text": [
      "Accuracy score per blink using Naive Bayes:  0.4090909090909091\n"
     ]
    },
    {
     "data": {
      "image/png": "[encoded data removed]",
      "text/plain": [
       "<Figure size 432x288 with 1 Axes>"
      ]
     },
     "metadata": {
      "needs_background": "light"
     },
     "output_type": "display_data"
    }
   ],
   "source": [
    "# Evaluate score per blink\n",
    "df_db_blink_res = eval_blinks(df_db_test)\n",
    "\n",
    "y_blink_test = np.array([int(l*(levels-1)) for l in df_db_blink_res['min_label']])\n",
    "y_blink_pred = np.array([int(l*(levels-1)) for l in df_db_blink_res['min_pred']])\n",
    "\n",
    "mat = confusion_matrix(y_blink_test, y_blink_pred)\n",
    "sns.heatmap(mat, square=True, annot=True, cbar=False)\n",
    "plt.xlabel('predicted value')\n",
    "plt.ylabel('true value')\n",
    "\n",
    "print('Accuracy score per blink using Naive Bayes: ',accuracy_score(y_blink_test, y_blink_pred))"
   ]
  },
  {
   "cell_type": "markdown",
   "metadata": {},
   "source": [
    "## Try Support Vector Machine"
   ]
  },
  {
   "cell_type": "markdown",
   "metadata": {},
   "source": [
    "### Linear SVM"
   ]
  },
  {
   "cell_type": "code",
   "execution_count": 19,
   "metadata": {},
   "outputs": [],
   "source": [
    "linsvm = SVC(kernel='linear')\n",
    "df_db_test = cv_blink(df_db_offset, X, y, linsvm, num_cv=5, random_state=0, use_prob=False)"
   ]
  },
  {
   "cell_type": "code",
   "execution_count": 20,
   "metadata": {},
   "outputs": [
    {
     "name": "stdout",
     "output_type": "stream",
     "text": [
      "Accuracy score using Linear SVM:  0.5470438027892359\n"
     ]
    },
    {
     "data": {
      "image/png": "[encoded data removed]",
      "text/plain": [
       "<Figure size 432x288 with 1 Axes>"
      ]
     },
     "metadata": {
      "needs_background": "light"
     },
     "output_type": "display_data"
    }
   ],
   "source": [
    "# Evaluate score per frame\n",
    "y_test = np.array([int(l*(levels-1)) for l in df_db_test['label']])\n",
    "y_pred = np.array([int(l*(levels-1)) for l in df_db_test['prediction']])\n",
    "\n",
    "mat = confusion_matrix(y_test, y_pred)\n",
    "sns.heatmap(mat, square=True, annot=True, cbar=False)\n",
    "plt.xlabel('predicted value')\n",
    "plt.ylabel('true value')\n",
    "\n",
    "print('Accuracy score using Linear SVM: ',accuracy_score(y_test, y_pred))"
   ]
  },
  {
   "cell_type": "code",
   "execution_count": 21,
   "metadata": {},
   "outputs": [
    {
     "name": "stdout",
     "output_type": "stream",
     "text": [
      "Accuracy score per blink using Linear SVM:  0.45454545454545453\n"
     ]
    },
    {
     "data": {
      "image/png": "[encoded data removed]",
      "text/plain": [
       "<Figure size 432x288 with 1 Axes>"
      ]
     },
     "metadata": {
      "needs_background": "light"
     },
     "output_type": "display_data"
    }
   ],
   "source": [
    "# Evaluate score per blink\n",
    "df_db_blink_res = eval_blinks(df_db_test)\n",
    "\n",
    "y_blink_test = np.array([int(l*(levels-1)) for l in df_db_blink_res['min_label']])\n",
    "y_blink_pred = np.array([int(l*(levels-1)) for l in df_db_blink_res['min_pred']])\n",
    "\n",
    "mat = confusion_matrix(y_blink_test, y_blink_pred)\n",
    "sns.heatmap(mat, square=True, annot=True, cbar=False)\n",
    "plt.xlabel('predicted value')\n",
    "plt.ylabel('true value')\n",
    "\n",
    "print('Accuracy score per blink using Linear SVM: ',accuracy_score(y_blink_test, y_blink_pred))"
   ]
  },
  {
   "cell_type": "markdown",
   "metadata": {},
   "source": [
    "### RBF SVM"
   ]
  },
  {
   "cell_type": "code",
   "execution_count": 12,
   "metadata": {},
   "outputs": [],
   "source": [
    "rbfsvm = SVC(kernel='rbf', C=1000, gamma='scale', probability=False, random_state=0)\n",
    "df_db_test = cv_blink(df_db_offset, X, y, rbfsvm, num_cv=5, random_state=0, use_prob=False)"
   ]
  },
  {
   "cell_type": "code",
   "execution_count": 13,
   "metadata": {},
   "outputs": [
    {
     "name": "stdout",
     "output_type": "stream",
     "text": [
      "Accuracy score using RBF SVM:  0.6668630917305048\n"
     ]
    },
    {
     "data": {
      "image/png": "[encoded data removed]",
      "text/plain": [
       "<Figure size 432x288 with 1 Axes>"
      ]
     },
     "metadata": {
      "needs_background": "light"
     },
     "output_type": "display_data"
    }
   ],
   "source": [
    "# Evaluate score per frame\n",
    "y_test = np.array([int(l*(levels-1)) for l in df_db_test['label']])\n",
    "y_pred = np.array([int(l*(levels-1)) for l in df_db_test['prediction']])\n",
    "\n",
    "mat = confusion_matrix(y_test, y_pred)\n",
    "sns.heatmap(mat, square=True, annot=True, cbar=False)\n",
    "plt.xlabel('predicted value')\n",
    "plt.ylabel('true value')\n",
    "\n",
    "print('Accuracy score using RBF SVM: ',accuracy_score(y_test, y_pred))"
   ]
  },
  {
   "cell_type": "code",
   "execution_count": 14,
   "metadata": {},
   "outputs": [
    {
     "name": "stdout",
     "output_type": "stream",
     "text": [
      "Accuracy score per blink using RBF SVM:  0.7363636363636363\n"
     ]
    },
    {
     "data": {
      "image/png": "[encoded data removed]",
      "text/plain": [
       "<Figure size 432x288 with 1 Axes>"
      ]
     },
     "metadata": {
      "needs_background": "light"
     },
     "output_type": "display_data"
    }
   ],
   "source": [
    "# Evaluate score per blink\n",
    "df_db_blink_res = eval_blinks(df_db_test)\n",
    "\n",
    "y_blink_test = np.array([int(l*(levels-1)) for l in df_db_blink_res['min_label']])\n",
    "y_blink_pred = np.array([int(l*(levels-1)) for l in df_db_blink_res['min_pred']])\n",
    "\n",
    "mat = confusion_matrix(y_blink_test, y_blink_pred)\n",
    "sns.heatmap(mat, square=True, annot=True, cbar=False)\n",
    "plt.xlabel('predicted value')\n",
    "plt.ylabel('true value')\n",
    "\n",
    "print('Accuracy score per blink using RBF SVM: ',accuracy_score(y_blink_test, y_blink_pred))"
   ]
  },
  {
   "cell_type": "code",
   "execution_count": 24,
   "metadata": {},
   "outputs": [
    {
     "name": "stdout",
     "output_type": "stream",
     "text": [
      "Accuracy score using RBF SVM for 3-level classification:  0.8190925162050677\n"
     ]
    },
    {
     "data": {
      "image/png": "[encoded data removed]",
      "text/plain": [
       "<Figure size 432x288 with 1 Axes>"
      ]
     },
     "metadata": {
      "needs_background": "light"
     },
     "output_type": "display_data"
    }
   ],
   "source": [
    "# Evaluate performance using only 3 levels\n",
    "y_test_3l = y_test\n",
    "y_pred_3l = y_pred\n",
    "\n",
    "for i in range(len(y_test)):\n",
    "    if (y_test[i] == 1) or (y_test[i] == 3):\n",
    "        y_test_3l[i] = 2\n",
    "    if (y_pred[i] == 1) or (y_pred[i] == 3):\n",
    "        y_pred_3l[i] = 2\n",
    "\n",
    "mat = confusion_matrix(y_test_3l, y_pred_3l)\n",
    "sns.heatmap(mat, square=True, annot=True, cbar=False)\n",
    "plt.xlabel('predicted value')\n",
    "plt.ylabel('true value')\n",
    "\n",
    "print('Accuracy score using RBF SVM for 3-level classification: ',accuracy_score(y_test_3l, y_pred_3l))"
   ]
  },
  {
   "cell_type": "code",
   "execution_count": 26,
   "metadata": {},
   "outputs": [
    {
     "name": "stdout",
     "output_type": "stream",
     "text": [
      "Accuracy score per blink using RBF SVM for 3-level classification:  0.9181818181818182\n"
     ]
    },
    {
     "data": {
      "image/png": "[encoded data removed]",
      "text/plain": [
       "<Figure size 432x288 with 1 Axes>"
      ]
     },
     "metadata": {
      "needs_background": "light"
     },
     "output_type": "display_data"
    }
   ],
   "source": [
    "# Evaluate score per blink using only 3 levels\n",
    "df_db_test_3l = df_db_test.copy()\n",
    "df_db_test_3l.loc[:,'label'] = y_test_3l / (levels-1)\n",
    "df_db_test_3l.loc[:,'prediction'] = y_pred_3l / (levels-1)\n",
    "df_db_blink_res_3l = eval_blinks(df_db_test_3l)\n",
    "\n",
    "y_blink_test_3l = np.array([int(l*(levels-1)) for l in df_db_blink_res_3l['min_label']])\n",
    "y_blink_pred_3l = np.array([int(l*(levels-1)) for l in df_db_blink_res_3l['min_pred']])\n",
    "\n",
    "mat = confusion_matrix(y_blink_test_3l, y_blink_pred_3l)\n",
    "sns.heatmap(mat, square=True, annot=True, cbar=False)\n",
    "plt.xlabel('predicted value')\n",
    "plt.ylabel('true value')\n",
    "\n",
    "print('Accuracy score per blink using RBF SVM for 3-level classification: ',accuracy_score(y_blink_test_3l, y_blink_pred_3l))"
   ]
  },
  {
   "cell_type": "markdown",
   "metadata": {},
   "source": [
    "## Save classifier to a variable"
   ]
  },
  {
   "cell_type": "code",
   "execution_count": 20,
   "metadata": {},
   "outputs": [
    {
     "data": {
      "text/plain": [
       "['model.joblib']"
      ]
     },
     "execution_count": 20,
     "metadata": {},
     "output_type": "execute_result"
    }
   ],
   "source": [
    "from joblib import dump, load\n",
    "\n",
    "rbfsvm = SVC(kernel='rbf', C=1000, gamma='scale', probability=False, random_state=0)\n",
    "rbfsvm.fit(X, y)\n",
    "\n",
    "dump(rbfsvm, 'model.joblib')"
   ]
  },
  {
   "cell_type": "markdown",
   "metadata": {},
   "source": [
    "## Try K-Nearest Neighbors"
   ]
  },
  {
   "cell_type": "code",
   "execution_count": 254,
   "metadata": {},
   "outputs": [
    {
     "name": "stdout",
     "output_type": "stream",
     "text": [
      "Max score is:  0.6818181818181818\n",
      "Using 4 neighbors\n"
     ]
    },
    {
     "data": {
      "image/png": "[encoded data removed]",
      "text/plain": [
       "<Figure size 432x288 with 1 Axes>"
      ]
     },
     "metadata": {
      "needs_background": "light"
     },
     "output_type": "display_data"
    }
   ],
   "source": [
    "neigh = np.arange(start=2, stop=40, step=2)\n",
    "scores = []\n",
    "\n",
    "for n in neigh:\n",
    "    knn = KNeighborsClassifier(n_neighbors=n, weights='distance')\n",
    "    df_db_test = cv_blink(df_db_offset, X, y, knn, num_cv=5, random_state=0, use_prob=False)\n",
    "    df_db_blink_res = eval_blinks(df_db_test)\n",
    "    y_blink_test = np.array([int(l*(levels-1)) for l in df_db_blink_res['min_label']])\n",
    "    y_blink_pred = np.array([int(l*(levels-1)) for l in df_db_blink_res['min_pred']])\n",
    "    scores.append(accuracy_score(y_blink_test, y_blink_pred))\n",
    "\n",
    "plt.plot(neigh,scores)\n",
    "plt.xlabel('Number of neighbors')\n",
    "plt.ylabel('KNN Score')\n",
    "\n",
    "max_value = max(scores)\n",
    "max_index = scores.index(max_value)\n",
    "print('Max score is: ', max_value)\n",
    "print('Using ' + str(neigh[max_index]) + ' neighbors')"
   ]
  },
  {
   "cell_type": "code",
   "execution_count": 255,
   "metadata": {},
   "outputs": [
    {
     "name": "stdout",
     "output_type": "stream",
     "text": [
      "Accuracy score using K-Nearest Neighbors:  0.6468277352190139\n"
     ]
    },
    {
     "data": {
      "image/png": "[encoded data removed]",
      "text/plain": [
       "<Figure size 432x288 with 1 Axes>"
      ]
     },
     "metadata": {
      "needs_background": "light"
     },
     "output_type": "display_data"
    }
   ],
   "source": [
    "# Display results using KNN with the optimal number of neighbors\n",
    "knn = KNeighborsClassifier(n_neighbors=4, weights='distance')\n",
    "df_db_test = cv_blink(df_db_offset, X, y, knn, num_cv=5, random_state=0, use_prob=False)\n",
    "df_db_blink_res = eval_blinks(df_db_test)\n",
    "\n",
    "y_test = np.array([int(l*(levels-1)) for l in df_db_test['label']])\n",
    "y_pred = np.array([int(l*(levels-1)) for l in df_db_test['prediction']])\n",
    "\n",
    "mat = confusion_matrix(y_test, y_pred)\n",
    "sns.heatmap(mat, square=True, annot=True, cbar=False)\n",
    "plt.xlabel('predicted value')\n",
    "plt.ylabel('true value')\n",
    "\n",
    "print('Accuracy score using K-Nearest Neighbors: ',accuracy_score(y_test, y_pred))"
   ]
  },
  {
   "cell_type": "code",
   "execution_count": 256,
   "metadata": {},
   "outputs": [
    {
     "name": "stdout",
     "output_type": "stream",
     "text": [
      "Accuracy score per blink using K-Nearest Neighbors:  0.6818181818181818\n"
     ]
    },
    {
     "data": {
      "image/png": "[encoded data removed]",
      "text/plain": [
       "<Figure size 432x288 with 1 Axes>"
      ]
     },
     "metadata": {
      "needs_background": "light"
     },
     "output_type": "display_data"
    }
   ],
   "source": [
    "y_blink_test = np.array([int(l*(levels-1)) for l in df_db_blink_res['min_label']])\n",
    "y_blink_pred = np.array([int(l*(levels-1)) for l in df_db_blink_res['min_pred']])\n",
    "\n",
    "mat = confusion_matrix(y_blink_test, y_blink_pred)\n",
    "sns.heatmap(mat, square=True, annot=True, cbar=False)\n",
    "plt.xlabel('predicted value')\n",
    "plt.ylabel('true value')\n",
    "\n",
    "print('Accuracy score per blink using K-Nearest Neighbors: ',accuracy_score(y_blink_test, y_blink_pred))"
   ]
  },
  {
   "cell_type": "markdown",
   "metadata": {},
   "source": [
    "## Try Random Forest"
   ]
  },
  {
   "cell_type": "code",
   "execution_count": 269,
   "metadata": {},
   "outputs": [],
   "source": [
    "from sklearn.ensemble import RandomForestClassifier\n",
    "from sklearn.model_selection import GridSearchCV\n",
    "\n",
    "parameters = {'max_features':['sqrt', 'log2', 10],\n",
    "              'max_depth':[5, 7, 9]}\n",
    "\n",
    "rf = RandomForestClassifier(n_estimators=500, random_state=0)\n",
    "\n",
    "df_db_test = cv_blink(df_db_offset, X, y, rf, num_cv=5, random_state=0, use_prob=False)"
   ]
  },
  {
   "cell_type": "code",
   "execution_count": 270,
   "metadata": {},
   "outputs": [
    {
     "name": "stdout",
     "output_type": "stream",
     "text": [
      "Accuracy score using Random Forest:  0.6892555490080534\n"
     ]
    },
    {
     "data": {
      "image/png": "[encoded data removed]",
      "text/plain": [
       "<Figure size 432x288 with 1 Axes>"
      ]
     },
     "metadata": {
      "needs_background": "light"
     },
     "output_type": "display_data"
    }
   ],
   "source": [
    "# Evaluate score per frame\n",
    "y_test = np.array([int(l*(levels-1)) for l in df_db_test['label']])\n",
    "y_pred = np.array([int(l*(levels-1)) for l in df_db_test['prediction']])\n",
    "\n",
    "mat = confusion_matrix(y_test, y_pred)\n",
    "sns.heatmap(mat, square=True, annot=True, cbar=False)\n",
    "plt.xlabel('predicted value')\n",
    "plt.ylabel('true value')\n",
    "\n",
    "print('Accuracy score using Random Forest: ',accuracy_score(y_test, y_pred))"
   ]
  },
  {
   "cell_type": "code",
   "execution_count": 277,
   "metadata": {},
   "outputs": [
    {
     "name": "stdout",
     "output_type": "stream",
     "text": [
      "Accuracy score per blink using Random Forest:  0.7363636363636363\n"
     ]
    },
    {
     "data": {
      "image/png": "[encoded data removed]",
      "text/plain": [
       "<Figure size 432x288 with 1 Axes>"
      ]
     },
     "metadata": {
      "needs_background": "light"
     },
     "output_type": "display_data"
    }
   ],
   "source": [
    "# Evaluate score per blink\n",
    "df_db_blink_res = eval_blinks(df_db_test)\n",
    "\n",
    "y_blink_test = np.array([int(l*(levels-1)) for l in df_db_blink_res['min_label']])\n",
    "y_blink_pred = np.array([int(l*(levels-1)) for l in df_db_blink_res['min_pred']])\n",
    "\n",
    "mat = confusion_matrix(y_blink_test, y_blink_pred)\n",
    "sns.heatmap(mat, square=True, annot=True, cbar=False)\n",
    "plt.xlabel('predicted value')\n",
    "plt.ylabel('true value')\n",
    "\n",
    "print('Accuracy score per blink using Random Forest: ',accuracy_score(y_blink_test, y_blink_pred))"
   ]
  },
  {
   "cell_type": "markdown",
   "metadata": {},
   "source": [
    "# Choose the optimal number of neighboring frames to take into account"
   ]
  },
  {
   "cell_type": "markdown",
   "metadata": {},
   "source": [
    "## Show historgam of blink durations"
   ]
  },
  {
   "cell_type": "code",
   "execution_count": 299,
   "metadata": {},
   "outputs": [
    {
     "data": {
      "text/plain": [
       "Text(0.5, 1.0, 'Histogram of blink duration')"
      ]
     },
     "execution_count": 299,
     "metadata": {},
     "output_type": "execute_result"
    },
    {
     "data": {
      "image/png": "[encoded data removed]",
      "text/plain": [
       "<Figure size 432x288 with 1 Axes>"
      ]
     },
     "metadata": {
      "needs_background": "light"
     },
     "output_type": "display_data"
    }
   ],
   "source": [
    "dur_list = []\n",
    "\n",
    "for blink in df_db['blink_number'].unique():\n",
    "    dur_list.append(len(df_db.loc[df_db['blink_number'] == blink].index))\n",
    "\n",
    "plt.hist(dur_list)\n",
    "plt.ylabel('Occurances')\n",
    "plt.xlabel('Blink duration [frames]')\n",
    "plt.title('Histogram of blink duration')"
   ]
  },
  {
   "cell_type": "code",
   "execution_count": 300,
   "metadata": {},
   "outputs": [],
   "source": [
    "max_frames = 10\n",
    "\n",
    "df_db_ext = df_db.copy()\n",
    "\n",
    "for offset in range(max_frames*(-1), max_frames+1):\n",
    "    # Do something only if the offset isn't zero\n",
    "    if(offset == 0):\n",
    "        continue\n",
    "    \n",
    "    # Run for each blink\n",
    "    for blink_number in range(num_blinks):\n",
    "        \n",
    "        blink_idx = df_db.loc[df_db['blink_number'] == blink_number].index\n",
    "\n",
    "        for i in range(len(blink_idx)):\n",
    "            # Add a column for each selected feature\n",
    "            for feature in features:\n",
    "                new_column = feature + '_' + str(offset)\n",
    "                if (i + offset < 0) or (i + offset > len(blink_idx) - 1):\n",
    "                    df_db_ext.loc[blink_idx[i], new_column] = 1\n",
    "                else:\n",
    "                    df_db_ext.loc[blink_idx[i], new_column]  = df_db_ext.loc[blink_idx[i + offset], feature]"
   ]
  },
  {
   "cell_type": "code",
   "execution_count": 306,
   "metadata": {},
   "outputs": [
    {
     "name": "stdout",
     "output_type": "stream",
     "text": [
      "3\n",
      "7\n",
      "11\n",
      "15\n",
      "19\n",
      "23\n",
      "27\n",
      "31\n",
      "35\n",
      "39\n",
      "43\n"
     ]
    }
   ],
   "source": [
    "# Run for each offset, starting from zero\n",
    "df_db_ext = df_db_ext.reset_index(drop=True)\n",
    "offset_scores = []\n",
    "\n",
    "for n in range(max_frames+1):\n",
    "    \n",
    "    # Construct a list of features to consider\n",
    "    new_features = features\n",
    "    for feature in features:\n",
    "        add_cols = []\n",
    "        for m in range(1,n+1):\n",
    "            add_cols   = add_cols + [col for col in df_db_ext.columns if (col.startswith(feature) and col.endswith(str(m)))]\n",
    "        new_features = new_features + add_cols\n",
    "    new_features.append('palsy_eye')\n",
    "    print(len(new_features))\n",
    "    \n",
    "    # Construct X and y vectors\n",
    "    X = df_db_ext[new_features]\n",
    "    y = np.array([int(l*4) for l in df_db_ext['label']])\n",
    "    \n",
    "    # Classify using RBF SVM\n",
    "    rbfsvm = SVC(kernel='rbf', C=1000, gamma='scale', probability=False, random_state=0)\n",
    "    df_db_test = cv_blink(df_db_ext, X, y, rbfsvm, num_cv=5, random_state=0, use_prob=False)\n",
    "    \n",
    "    # Evaluate score per blink\n",
    "    df_db_blink_res = eval_blinks(df_db_test)\n",
    "\n",
    "    y_blink_test = np.array([int(l*(levels-1)) for l in df_db_blink_res['min_label']])\n",
    "    y_blink_pred = np.array([int(l*(levels-1)) for l in df_db_blink_res['min_pred']])\n",
    "    \n",
    "    # Append the accuracy score to the scores list\n",
    "    offset_scores.append(accuracy_score(y_blink_test, y_blink_pred))"
   ]
  },
  {
   "cell_type": "code",
   "execution_count": 307,
   "metadata": {},
   "outputs": [
    {
     "data": {
      "text/plain": [
       "Text(0.5, 1.0, 'Model performance vs. number of neighboring frames')"
      ]
     },
     "execution_count": 307,
     "metadata": {},
     "output_type": "execute_result"
    },
    {
     "data": {
      "image/png": "[encoded data removed]",
      "text/plain": [
       "<Figure size 432x288 with 1 Axes>"
      ]
     },
     "metadata": {
      "needs_background": "light"
     },
     "output_type": "display_data"
    }
   ],
   "source": [
    "# Show graphs\n",
    "plt.plot(range(max_frames+1),offset_scores)\n",
    "plt.xlabel('Number of neighboring frames')\n",
    "plt.ylabel('Classification accuracy score')\n",
    "plt.title('Model performance vs. number of neighboring frames')"
   ]
  },
  {
   "cell_type": "code",
   "execution_count": 6,
   "metadata": {},
   "outputs": [],
   "source": [
    "# Try assymetrical offset \n",
    "max_frames = 15\n",
    "\n",
    "df_db_ext = df_db.copy()\n",
    "\n",
    "for offset in range(max_frames*(-1), 0):\n",
    "    # Do something only if the offset isn't zero\n",
    "    if(offset == 0):\n",
    "        continue\n",
    "    \n",
    "    # Run for each blink\n",
    "    for blink_number in range(num_blinks):\n",
    "        \n",
    "        blink_idx = df_db.loc[df_db['blink_number'] == blink_number].index\n",
    "\n",
    "        for i in range(len(blink_idx)):\n",
    "            # Add a column for each selected feature\n",
    "            for feature in features:\n",
    "                new_column = feature + '_' + str(offset)\n",
    "                if (i + offset < 0) or (i + offset > len(blink_idx) - 1):\n",
    "                    df_db_ext.loc[blink_idx[i], new_column] = 1\n",
    "                else:\n",
    "                    df_db_ext.loc[blink_idx[i], new_column]  = df_db_ext.loc[blink_idx[i + offset], feature]"
   ]
  },
  {
   "cell_type": "code",
   "execution_count": 10,
   "metadata": {},
   "outputs": [
    {
     "name": "stdout",
     "output_type": "stream",
     "text": [
      "['ear', 'poly', 'palsy_eye']\n",
      "['ear', 'poly', 'ear_-1', 'poly_-1', 'palsy_eye']\n",
      "['ear', 'poly', 'ear_-1', 'ear_-2', 'poly_-1', 'poly_-2', 'palsy_eye']\n",
      "['ear', 'poly', 'ear_-1', 'ear_-2', 'ear_-3', 'poly_-1', 'poly_-2', 'poly_-3', 'palsy_eye']\n",
      "['ear', 'poly', 'ear_-1', 'ear_-2', 'ear_-3', 'ear_-4', 'poly_-1', 'poly_-2', 'poly_-3', 'poly_-4', 'palsy_eye']\n",
      "['ear', 'poly', 'ear_-1', 'ear_-2', 'ear_-3', 'ear_-4', 'ear_-5', 'poly_-1', 'poly_-2', 'poly_-3', 'poly_-4', 'poly_-5', 'palsy_eye']\n",
      "['ear', 'poly', 'ear_-1', 'ear_-2', 'ear_-3', 'ear_-4', 'ear_-5', 'ear_-6', 'poly_-1', 'poly_-2', 'poly_-3', 'poly_-4', 'poly_-5', 'poly_-6', 'palsy_eye']\n",
      "['ear', 'poly', 'ear_-1', 'ear_-2', 'ear_-3', 'ear_-4', 'ear_-5', 'ear_-6', 'ear_-7', 'poly_-1', 'poly_-2', 'poly_-3', 'poly_-4', 'poly_-5', 'poly_-6', 'poly_-7', 'palsy_eye']\n",
      "['ear', 'poly', 'ear_-1', 'ear_-2', 'ear_-3', 'ear_-4', 'ear_-5', 'ear_-6', 'ear_-7', 'ear_-8', 'poly_-1', 'poly_-2', 'poly_-3', 'poly_-4', 'poly_-5', 'poly_-6', 'poly_-7', 'poly_-8', 'palsy_eye']\n",
      "['ear', 'poly', 'ear_-1', 'ear_-2', 'ear_-3', 'ear_-4', 'ear_-5', 'ear_-6', 'ear_-7', 'ear_-8', 'ear_-9', 'poly_-1', 'poly_-2', 'poly_-3', 'poly_-4', 'poly_-5', 'poly_-6', 'poly_-7', 'poly_-8', 'poly_-9', 'palsy_eye']\n",
      "['ear', 'poly', 'ear_-1', 'ear_-2', 'ear_-3', 'ear_-4', 'ear_-5', 'ear_-6', 'ear_-7', 'ear_-8', 'ear_-9', 'ear_-10', 'poly_-1', 'poly_-2', 'poly_-3', 'poly_-4', 'poly_-5', 'poly_-6', 'poly_-7', 'poly_-8', 'poly_-9', 'poly_-10', 'palsy_eye']\n",
      "['ear', 'poly', 'ear_-1', 'ear_-2', 'ear_-3', 'ear_-4', 'ear_-5', 'ear_-6', 'ear_-7', 'ear_-8', 'ear_-9', 'ear_-10', 'ear_-11', 'poly_-1', 'poly_-2', 'poly_-3', 'poly_-4', 'poly_-5', 'poly_-6', 'poly_-7', 'poly_-8', 'poly_-9', 'poly_-10', 'poly_-11', 'palsy_eye']\n",
      "['ear', 'poly', 'ear_-1', 'ear_-2', 'ear_-3', 'ear_-4', 'ear_-5', 'ear_-6', 'ear_-7', 'ear_-8', 'ear_-9', 'ear_-10', 'ear_-11', 'ear_-12', 'poly_-1', 'poly_-2', 'poly_-3', 'poly_-4', 'poly_-5', 'poly_-6', 'poly_-7', 'poly_-8', 'poly_-9', 'poly_-10', 'poly_-11', 'poly_-12', 'palsy_eye']\n",
      "['ear', 'poly', 'ear_-1', 'ear_-2', 'ear_-3', 'ear_-4', 'ear_-5', 'ear_-6', 'ear_-7', 'ear_-8', 'ear_-9', 'ear_-10', 'ear_-11', 'ear_-12', 'ear_-13', 'poly_-1', 'poly_-2', 'poly_-3', 'poly_-4', 'poly_-5', 'poly_-6', 'poly_-7', 'poly_-8', 'poly_-9', 'poly_-10', 'poly_-11', 'poly_-12', 'poly_-13', 'palsy_eye']\n",
      "['ear', 'poly', 'ear_-1', 'ear_-2', 'ear_-3', 'ear_-4', 'ear_-5', 'ear_-6', 'ear_-7', 'ear_-8', 'ear_-9', 'ear_-10', 'ear_-11', 'ear_-12', 'ear_-13', 'ear_-14', 'poly_-1', 'poly_-2', 'poly_-3', 'poly_-4', 'poly_-5', 'poly_-6', 'poly_-7', 'poly_-8', 'poly_-9', 'poly_-10', 'poly_-11', 'poly_-12', 'poly_-13', 'poly_-14', 'palsy_eye']\n",
      "['ear', 'poly', 'ear_-1', 'ear_-2', 'ear_-3', 'ear_-4', 'ear_-5', 'ear_-6', 'ear_-7', 'ear_-8', 'ear_-9', 'ear_-10', 'ear_-11', 'ear_-12', 'ear_-13', 'ear_-14', 'ear_-15', 'poly_-1', 'poly_-2', 'poly_-3', 'poly_-4', 'poly_-5', 'poly_-6', 'poly_-7', 'poly_-8', 'poly_-9', 'poly_-10', 'poly_-11', 'poly_-12', 'poly_-13', 'poly_-14', 'poly_-15', 'palsy_eye']\n"
     ]
    }
   ],
   "source": [
    "# Run for each offset, starting from zero\n",
    "df_db_ext = df_db_ext.reset_index(drop=True)\n",
    "offset_scores = []\n",
    "\n",
    "for n in range(max_frames+1):\n",
    "    \n",
    "    # Construct a list of features to consider\n",
    "    new_features = features\n",
    "    for feature in features:\n",
    "        add_cols = []\n",
    "        for m in range(1,n+1):\n",
    "            add_cols   = add_cols + [col for col in df_db_ext.columns if (col.startswith(feature) and col.endswith('-'+str(m)))]\n",
    "        new_features = new_features + add_cols\n",
    "    new_features.append('palsy_eye')\n",
    "    print((new_features))\n",
    "    \n",
    "    # Construct X and y vectors\n",
    "    X = df_db_ext[new_features]\n",
    "    y = np.array([int(l*4) for l in df_db_ext['label']])\n",
    "    \n",
    "    # Classify using RBF SVM\n",
    "    rbfsvm = SVC(kernel='rbf', C=1000, gamma='scale', probability=False, random_state=0)\n",
    "    df_db_test = cv_blink(df_db_ext, X, y, rbfsvm, num_cv=5, random_state=0, use_prob=False)\n",
    "    \n",
    "    # Evaluate score per blink\n",
    "    df_db_blink_res = eval_blinks(df_db_test)\n",
    "\n",
    "    y_blink_test = np.array([int(l*(levels-1)) for l in df_db_blink_res['min_label']])\n",
    "    y_blink_pred = np.array([int(l*(levels-1)) for l in df_db_blink_res['min_pred']])\n",
    "    \n",
    "    # Append the accuracy score to the scores list\n",
    "    offset_scores.append(accuracy_score(y_blink_test, y_blink_pred))"
   ]
  },
  {
   "cell_type": "code",
   "execution_count": 11,
   "metadata": {},
   "outputs": [
    {
     "data": {
      "text/plain": [
       "Text(0.5, 1.0, 'Model performance vs. number of neighboring frames')"
      ]
     },
     "execution_count": 11,
     "metadata": {},
     "output_type": "execute_result"
    },
    {
     "data": {
      "image/png": "[encoded data removed]",
      "text/plain": [
       "<Figure size 432x288 with 1 Axes>"
      ]
     },
     "metadata": {
      "needs_background": "light"
     },
     "output_type": "display_data"
    }
   ],
   "source": [
    "# Show graphs\n",
    "plt.plot(range(max_frames+1),offset_scores)\n",
    "plt.xlabel('Number of neighboring frames')\n",
    "plt.ylabel('Classification accuracy score')\n",
    "plt.title('Model performance vs. number of neighboring frames')"
   ]
  },
  {
   "cell_type": "markdown",
   "metadata": {},
   "source": [
    "# Different approach: using textual features"
   ]
  },
  {
   "cell_type": "markdown",
   "metadata": {},
   "source": [
    "## Extract HOG features"
   ]
  },
  {
   "cell_type": "code",
   "execution_count": 283,
   "metadata": {},
   "outputs": [],
   "source": [
    "# define HOG descriptor\n",
    "IMG_WIDTH = 34\n",
    "IMG_HEIGHT = 26\n",
    "BLOCK_SIZE = 3\n",
    "\n",
    "# change window size so that it will be divisable by the block size\n",
    "if IMG_WIDTH % BLOCK_SIZE == 0:\n",
    "    win_width = IMG_WIDTH\n",
    "else:\n",
    "    win_width = (IMG_WIDTH // BLOCK_SIZE) * BLOCK_SIZE\n",
    "    \n",
    "if IMG_HEIGHT % BLOCK_SIZE == 0:\n",
    "    win_height = IMG_HEIGHT\n",
    "else:\n",
    "    win_height = (IMG_HEIGHT // BLOCK_SIZE) * BLOCK_SIZE\n",
    "\n",
    "# Define HOG parameters\n",
    "winSize = (win_width, win_height)\n",
    "blockSize = (2*BLOCK_SIZE, 2*BLOCK_SIZE)\n",
    "blockStride = (BLOCK_SIZE, BLOCK_SIZE)\n",
    "cellSize = (BLOCK_SIZE, BLOCK_SIZE)\n",
    "nbins = 9\n",
    "derivAperture = 1\n",
    "winSigma = 4.\n",
    "histogramNormType = 0\n",
    "L2HysThreshold = 2.0000000000000001e-01\n",
    "gammaCorrection = 0\n",
    "nlevels = 64\n",
    "hog = cv2.HOGDescriptor(winSize,blockSize,blockStride,cellSize,nbins,derivAperture,winSigma,\n",
    "                        histogramNormType,L2HysThreshold,gammaCorrection,nlevels)"
   ]
  },
  {
   "cell_type": "code",
   "execution_count": 285,
   "metadata": {},
   "outputs": [],
   "source": [
    "# Extract features for each frame in the database\n",
    "df_db_hog = df_db.copy().reset_index(drop=True)\n",
    "\n",
    "for i in range(len(df_db.index)):\n",
    "    # extract file name\n",
    "    file_name  = df_db_hog.loc[i,'video_name']\n",
    "    # extract eye location\n",
    "    eye_loc    = df_db_hog.loc[i,'eye_location']\n",
    "    # extract frame number\n",
    "    frame_num  = df_db_hog.loc[i,'frame_number']\n",
    "    # extract image directory\n",
    "    img_dir = '../2_features_extraction/files/' + file_name + '/eye_pics/' + eye_loc + '/' + str(frame_num).zfill(3) + '.jpg'\n",
    "    # read the appropriate image\n",
    "    image = cv2.imread(img_dir)\n",
    "    # convert to grayscale\n",
    "    gray = cv2.cvtColor(image, cv2.COLOR_BGR2GRAY)\n",
    "    # calculate HOG descriptor\n",
    "    hist = hog.compute(gray)\n",
    "    \n",
    "    if i == 0:\n",
    "        feature_matrix = np.transpose(hist)\n",
    "    else:\n",
    "        feature_matrix = np.vstack([feature_matrix, np.transpose(hist)])"
   ]
  },
  {
   "cell_type": "markdown",
   "metadata": {},
   "source": [
    "## Define X and y vectors"
   ]
  },
  {
   "cell_type": "code",
   "execution_count": 292,
   "metadata": {},
   "outputs": [
    {
     "data": {
      "text/plain": [
       "2520"
      ]
     },
     "execution_count": 292,
     "metadata": {},
     "output_type": "execute_result"
    }
   ],
   "source": [
    "feature_matrix.shape[1]"
   ]
  },
  {
   "cell_type": "code",
   "execution_count": 294,
   "metadata": {},
   "outputs": [],
   "source": [
    "#X = feature_matrix\n",
    "X = pd.DataFrame(data=feature_matrix,                  \n",
    "                 index=range(feature_matrix.shape[0]), \n",
    "                 columns=range(feature_matrix.shape[1]))     \n",
    "y = np.array([int(l*4) for l in df_db_hog['label']])"
   ]
  },
  {
   "cell_type": "markdown",
   "metadata": {},
   "source": [
    "## Examine the use of PCA"
   ]
  },
  {
   "cell_type": "code",
   "execution_count": 287,
   "metadata": {},
   "outputs": [
    {
     "data": {
      "image/png": "[encoded data removed]",
      "text/plain": [
       "<Figure size 432x288 with 1 Axes>"
      ]
     },
     "metadata": {
      "needs_background": "light"
     },
     "output_type": "display_data"
    }
   ],
   "source": [
    "#Fitting the PCA algorithm with our Data\n",
    "pca = PCA().fit(X)\n",
    "#Plotting the Cumulative Summation of the Explained Variance\n",
    "plt.figure()\n",
    "plt.plot(np.cumsum(pca.explained_variance_ratio_))\n",
    "plt.xlabel('Number of Components')\n",
    "plt.ylabel('Variance (%)') #for each component\n",
    "plt.title('Dataset Explained Variance')\n",
    "plt.show()"
   ]
  },
  {
   "cell_type": "code",
   "execution_count": 288,
   "metadata": {},
   "outputs": [],
   "source": [
    "# Pefrorm PCA using a lower number support vectors\n",
    "model = PCA(n_components=1700)            \n",
    "model.fit(X)                      \n",
    "X_PCA = model.transform(X)         "
   ]
  },
  {
   "cell_type": "markdown",
   "metadata": {},
   "source": [
    "## Try SVM"
   ]
  },
  {
   "cell_type": "markdown",
   "metadata": {},
   "source": [
    "### RBF SVM"
   ]
  },
  {
   "cell_type": "code",
   "execution_count": 295,
   "metadata": {},
   "outputs": [],
   "source": [
    "rbfsvm = SVC(kernel='rbf', C=1000, gamma='scale', probability=False, random_state=0)\n",
    "df_db_test = cv_blink(df_db_hog, X, y, rbfsvm, num_cv=5, random_state=0, use_prob=False)"
   ]
  },
  {
   "cell_type": "code",
   "execution_count": 297,
   "metadata": {},
   "outputs": [
    {
     "name": "stdout",
     "output_type": "stream",
     "text": [
      "Accuracy score using HOG & RBF SVM:  0.5262227460223925\n"
     ]
    },
    {
     "data": {
      "image/png": "[encoded data removed]",
      "text/plain": [
       "<Figure size 432x288 with 1 Axes>"
      ]
     },
     "metadata": {
      "needs_background": "light"
     },
     "output_type": "display_data"
    }
   ],
   "source": [
    "# Evaluate score per frame\n",
    "y_test = np.array([int(l*(levels-1)) for l in df_db_test['label']])\n",
    "y_pred = np.array([int(l*(levels-1)) for l in df_db_test['prediction']])\n",
    "\n",
    "mat = confusion_matrix(y_test, y_pred)\n",
    "sns.heatmap(mat, square=True, annot=True, cbar=False)\n",
    "plt.xlabel('predicted value')\n",
    "plt.ylabel('true value')\n",
    "\n",
    "print('Accuracy score using HOG & RBF SVM: ',accuracy_score(y_test, y_pred))"
   ]
  },
  {
   "cell_type": "code",
   "execution_count": 298,
   "metadata": {},
   "outputs": [
    {
     "name": "stdout",
     "output_type": "stream",
     "text": [
      "Accuracy score per blink using HOG & RBF SVM:  0.5818181818181818\n"
     ]
    },
    {
     "data": {
      "image/png": "[encoded data removed]",
      "text/plain": [
       "<Figure size 432x288 with 1 Axes>"
      ]
     },
     "metadata": {
      "needs_background": "light"
     },
     "output_type": "display_data"
    }
   ],
   "source": [
    "# Evaluate score per blink\n",
    "df_db_blink_res = eval_blinks(df_db_test)\n",
    "\n",
    "y_blink_test = np.array([int(l*(levels-1)) for l in df_db_blink_res['min_label']])\n",
    "y_blink_pred = np.array([int(l*(levels-1)) for l in df_db_blink_res['min_pred']])\n",
    "\n",
    "mat = confusion_matrix(y_blink_test, y_blink_pred)\n",
    "sns.heatmap(mat, square=True, annot=True, cbar=False)\n",
    "plt.xlabel('predicted value')\n",
    "plt.ylabel('true value')\n",
    "\n",
    "print('Accuracy score per blink using HOG & RBF SVM: ',accuracy_score(y_blink_test, y_blink_pred))"
   ]
  },
  {
   "cell_type": "code",
   "execution_count": null,
   "metadata": {},
   "outputs": [],
   "source": []
  },
  {
   "cell_type": "code",
   "execution_count": 191,
   "metadata": {},
   "outputs": [
    {
     "name": "stdout",
     "output_type": "stream",
     "text": [
      "Int64Index([3192, 3193, 3195], dtype='int64')\n"
     ]
    }
   ],
   "source": [
    "min_pred  = min(df_db_test.loc[df_db_test['blink_number'] == 272].iloc[1:-1,:]['prediction'])\n",
    "min_pred_idx = df_db_test.loc[(df_db_test['blink_number'] == 272) & (df_db_test['prediction'] == min_pred)].index\n",
    "min_pred_mid = min_pred_idx[round(len(min_pred_idx)/2)]\n",
    "min_locs = df_db_test.loc[df_db_test['blink_number'] == 272].loc[min_pred_mid-1:min_pred_mid+1,:]['prediction'].reset_index(drop=True)\n",
    "print(min_pred_idx)"
   ]
  },
  {
   "cell_type": "code",
   "execution_count": 174,
   "metadata": {},
   "outputs": [
    {
     "name": "stdout",
     "output_type": "stream",
     "text": [
      "shapes: \n",
      " Xtrain : (4097, 27)\n",
      " Xtest: (1018, 27)\n",
      " ytrain: (4097,)\n",
      " ytest: (1018,)\n"
     ]
    },
    {
     "name": "stderr",
     "output_type": "stream",
     "text": [
      "C:\\Users\\user\\AppData\\Local\\conda\\conda\\envs\\opencv-env\\lib\\site-packages\\pandas\\core\\indexing.py:362: SettingWithCopyWarning: \n",
      "A value is trying to be set on a copy of a slice from a DataFrame.\n",
      "Try using .loc[row_indexer,col_indexer] = value instead\n",
      "\n",
      "See the caveats in the documentation: http://pandas.pydata.org/pandas-docs/stable/indexing.html#indexing-view-versus-copy\n",
      "  self.obj[key] = _infer_fill_value(value)\n",
      "C:\\Users\\user\\AppData\\Local\\conda\\conda\\envs\\opencv-env\\lib\\site-packages\\pandas\\core\\indexing.py:543: SettingWithCopyWarning: \n",
      "A value is trying to be set on a copy of a slice from a DataFrame.\n",
      "Try using .loc[row_indexer,col_indexer] = value instead\n",
      "\n",
      "See the caveats in the documentation: http://pandas.pydata.org/pandas-docs/stable/indexing.html#indexing-view-versus-copy\n",
      "  self.obj[item] = s\n",
      "C:\\Users\\user\\AppData\\Local\\conda\\conda\\envs\\opencv-env\\lib\\site-packages\\pandas\\core\\indexing.py:362: SettingWithCopyWarning: \n",
      "A value is trying to be set on a copy of a slice from a DataFrame.\n",
      "Try using .loc[row_indexer,col_indexer] = value instead\n",
      "\n",
      "See the caveats in the documentation: http://pandas.pydata.org/pandas-docs/stable/indexing.html#indexing-view-versus-copy\n",
      "  self.obj[key] = _infer_fill_value(value)\n",
      "C:\\Users\\user\\AppData\\Local\\conda\\conda\\envs\\opencv-env\\lib\\site-packages\\pandas\\core\\indexing.py:543: SettingWithCopyWarning: \n",
      "A value is trying to be set on a copy of a slice from a DataFrame.\n",
      "Try using .loc[row_indexer,col_indexer] = value instead\n",
      "\n",
      "See the caveats in the documentation: http://pandas.pydata.org/pandas-docs/stable/indexing.html#indexing-view-versus-copy\n",
      "  self.obj[item] = s\n"
     ]
    },
    {
     "name": "stdout",
     "output_type": "stream",
     "text": [
      "171\n",
      "shapes: \n",
      " Xtrain : (4122, 27)\n",
      " Xtest: (993, 27)\n",
      " ytrain: (4122,)\n",
      " ytest: (993,)\n"
     ]
    },
    {
     "name": "stderr",
     "output_type": "stream",
     "text": [
      "C:\\Users\\user\\AppData\\Local\\conda\\conda\\envs\\opencv-env\\lib\\site-packages\\pandas\\core\\indexing.py:362: SettingWithCopyWarning: \n",
      "A value is trying to be set on a copy of a slice from a DataFrame.\n",
      "Try using .loc[row_indexer,col_indexer] = value instead\n",
      "\n",
      "See the caveats in the documentation: http://pandas.pydata.org/pandas-docs/stable/indexing.html#indexing-view-versus-copy\n",
      "  self.obj[key] = _infer_fill_value(value)\n",
      "C:\\Users\\user\\AppData\\Local\\conda\\conda\\envs\\opencv-env\\lib\\site-packages\\pandas\\core\\indexing.py:543: SettingWithCopyWarning: \n",
      "A value is trying to be set on a copy of a slice from a DataFrame.\n",
      "Try using .loc[row_indexer,col_indexer] = value instead\n",
      "\n",
      "See the caveats in the documentation: http://pandas.pydata.org/pandas-docs/stable/indexing.html#indexing-view-versus-copy\n",
      "  self.obj[item] = s\n",
      "C:\\Users\\user\\AppData\\Local\\conda\\conda\\envs\\opencv-env\\lib\\site-packages\\pandas\\core\\indexing.py:362: SettingWithCopyWarning: \n",
      "A value is trying to be set on a copy of a slice from a DataFrame.\n",
      "Try using .loc[row_indexer,col_indexer] = value instead\n",
      "\n",
      "See the caveats in the documentation: http://pandas.pydata.org/pandas-docs/stable/indexing.html#indexing-view-versus-copy\n",
      "  self.obj[key] = _infer_fill_value(value)\n",
      "C:\\Users\\user\\AppData\\Local\\conda\\conda\\envs\\opencv-env\\lib\\site-packages\\pandas\\core\\indexing.py:543: SettingWithCopyWarning: \n",
      "A value is trying to be set on a copy of a slice from a DataFrame.\n",
      "Try using .loc[row_indexer,col_indexer] = value instead\n",
      "\n",
      "See the caveats in the documentation: http://pandas.pydata.org/pandas-docs/stable/indexing.html#indexing-view-versus-copy\n",
      "  self.obj[item] = s\n"
     ]
    },
    {
     "name": "stdout",
     "output_type": "stream",
     "text": [
      "128\n",
      "shapes: \n",
      " Xtrain : (4146, 27)\n",
      " Xtest: (969, 27)\n",
      " ytrain: (4146,)\n",
      " ytest: (969,)\n"
     ]
    },
    {
     "name": "stderr",
     "output_type": "stream",
     "text": [
      "C:\\Users\\user\\AppData\\Local\\conda\\conda\\envs\\opencv-env\\lib\\site-packages\\pandas\\core\\indexing.py:362: SettingWithCopyWarning: \n",
      "A value is trying to be set on a copy of a slice from a DataFrame.\n",
      "Try using .loc[row_indexer,col_indexer] = value instead\n",
      "\n",
      "See the caveats in the documentation: http://pandas.pydata.org/pandas-docs/stable/indexing.html#indexing-view-versus-copy\n",
      "  self.obj[key] = _infer_fill_value(value)\n",
      "C:\\Users\\user\\AppData\\Local\\conda\\conda\\envs\\opencv-env\\lib\\site-packages\\pandas\\core\\indexing.py:543: SettingWithCopyWarning: \n",
      "A value is trying to be set on a copy of a slice from a DataFrame.\n",
      "Try using .loc[row_indexer,col_indexer] = value instead\n",
      "\n",
      "See the caveats in the documentation: http://pandas.pydata.org/pandas-docs/stable/indexing.html#indexing-view-versus-copy\n",
      "  self.obj[item] = s\n",
      "C:\\Users\\user\\AppData\\Local\\conda\\conda\\envs\\opencv-env\\lib\\site-packages\\pandas\\core\\indexing.py:362: SettingWithCopyWarning: \n",
      "A value is trying to be set on a copy of a slice from a DataFrame.\n",
      "Try using .loc[row_indexer,col_indexer] = value instead\n",
      "\n",
      "See the caveats in the documentation: http://pandas.pydata.org/pandas-docs/stable/indexing.html#indexing-view-versus-copy\n",
      "  self.obj[key] = _infer_fill_value(value)\n",
      "C:\\Users\\user\\AppData\\Local\\conda\\conda\\envs\\opencv-env\\lib\\site-packages\\pandas\\core\\indexing.py:543: SettingWithCopyWarning: \n",
      "A value is trying to be set on a copy of a slice from a DataFrame.\n",
      "Try using .loc[row_indexer,col_indexer] = value instead\n",
      "\n",
      "See the caveats in the documentation: http://pandas.pydata.org/pandas-docs/stable/indexing.html#indexing-view-versus-copy\n",
      "  self.obj[item] = s\n"
     ]
    },
    {
     "name": "stdout",
     "output_type": "stream",
     "text": [
      "85\n",
      "shapes: \n",
      " Xtrain : (4075, 27)\n",
      " Xtest: (1040, 27)\n",
      " ytrain: (4075,)\n",
      " ytest: (1040,)\n"
     ]
    },
    {
     "name": "stderr",
     "output_type": "stream",
     "text": [
      "C:\\Users\\user\\AppData\\Local\\conda\\conda\\envs\\opencv-env\\lib\\site-packages\\pandas\\core\\indexing.py:362: SettingWithCopyWarning: \n",
      "A value is trying to be set on a copy of a slice from a DataFrame.\n",
      "Try using .loc[row_indexer,col_indexer] = value instead\n",
      "\n",
      "See the caveats in the documentation: http://pandas.pydata.org/pandas-docs/stable/indexing.html#indexing-view-versus-copy\n",
      "  self.obj[key] = _infer_fill_value(value)\n",
      "C:\\Users\\user\\AppData\\Local\\conda\\conda\\envs\\opencv-env\\lib\\site-packages\\pandas\\core\\indexing.py:543: SettingWithCopyWarning: \n",
      "A value is trying to be set on a copy of a slice from a DataFrame.\n",
      "Try using .loc[row_indexer,col_indexer] = value instead\n",
      "\n",
      "See the caveats in the documentation: http://pandas.pydata.org/pandas-docs/stable/indexing.html#indexing-view-versus-copy\n",
      "  self.obj[item] = s\n",
      "C:\\Users\\user\\AppData\\Local\\conda\\conda\\envs\\opencv-env\\lib\\site-packages\\pandas\\core\\indexing.py:362: SettingWithCopyWarning: \n",
      "A value is trying to be set on a copy of a slice from a DataFrame.\n",
      "Try using .loc[row_indexer,col_indexer] = value instead\n",
      "\n",
      "See the caveats in the documentation: http://pandas.pydata.org/pandas-docs/stable/indexing.html#indexing-view-versus-copy\n",
      "  self.obj[key] = _infer_fill_value(value)\n",
      "C:\\Users\\user\\AppData\\Local\\conda\\conda\\envs\\opencv-env\\lib\\site-packages\\pandas\\core\\indexing.py:543: SettingWithCopyWarning: \n",
      "A value is trying to be set on a copy of a slice from a DataFrame.\n",
      "Try using .loc[row_indexer,col_indexer] = value instead\n",
      "\n",
      "See the caveats in the documentation: http://pandas.pydata.org/pandas-docs/stable/indexing.html#indexing-view-versus-copy\n",
      "  self.obj[item] = s\n"
     ]
    },
    {
     "name": "stdout",
     "output_type": "stream",
     "text": [
      "42\n",
      "shapes: \n",
      " Xtrain : (4044, 27)\n",
      " Xtest: (1071, 27)\n",
      " ytrain: (4044,)\n",
      " ytest: (1071,)\n"
     ]
    },
    {
     "name": "stderr",
     "output_type": "stream",
     "text": [
      "C:\\Users\\user\\AppData\\Local\\conda\\conda\\envs\\opencv-env\\lib\\site-packages\\pandas\\core\\indexing.py:362: SettingWithCopyWarning: \n",
      "A value is trying to be set on a copy of a slice from a DataFrame.\n",
      "Try using .loc[row_indexer,col_indexer] = value instead\n",
      "\n",
      "See the caveats in the documentation: http://pandas.pydata.org/pandas-docs/stable/indexing.html#indexing-view-versus-copy\n",
      "  self.obj[key] = _infer_fill_value(value)\n",
      "C:\\Users\\user\\AppData\\Local\\conda\\conda\\envs\\opencv-env\\lib\\site-packages\\pandas\\core\\indexing.py:543: SettingWithCopyWarning: \n",
      "A value is trying to be set on a copy of a slice from a DataFrame.\n",
      "Try using .loc[row_indexer,col_indexer] = value instead\n",
      "\n",
      "See the caveats in the documentation: http://pandas.pydata.org/pandas-docs/stable/indexing.html#indexing-view-versus-copy\n",
      "  self.obj[item] = s\n",
      "C:\\Users\\user\\AppData\\Local\\conda\\conda\\envs\\opencv-env\\lib\\site-packages\\pandas\\core\\indexing.py:362: SettingWithCopyWarning: \n",
      "A value is trying to be set on a copy of a slice from a DataFrame.\n",
      "Try using .loc[row_indexer,col_indexer] = value instead\n",
      "\n",
      "See the caveats in the documentation: http://pandas.pydata.org/pandas-docs/stable/indexing.html#indexing-view-versus-copy\n",
      "  self.obj[key] = _infer_fill_value(value)\n",
      "C:\\Users\\user\\AppData\\Local\\conda\\conda\\envs\\opencv-env\\lib\\site-packages\\pandas\\core\\indexing.py:543: SettingWithCopyWarning: \n",
      "A value is trying to be set on a copy of a slice from a DataFrame.\n",
      "Try using .loc[row_indexer,col_indexer] = value instead\n",
      "\n",
      "See the caveats in the documentation: http://pandas.pydata.org/pandas-docs/stable/indexing.html#indexing-view-versus-copy\n",
      "  self.obj[item] = s\n"
     ]
    },
    {
     "name": "stdout",
     "output_type": "stream",
     "text": [
      "0\n"
     ]
    }
   ],
   "source": [
    "# Train & Test using SVM\n",
    "num_blinks_normal = 214\n",
    "num_blinks_palsy = num_blinks - num_blinks_normal\n",
    "\n",
    "random_state = 0\n",
    "num_cv = 5\n",
    "\n",
    "normal_choice = range(num_blinks_normal)\n",
    "palsy_choice  = range(num_blinks_normal, num_blinks)\n",
    "\n",
    "for i in range(num_cv):\n",
    "    test_mask = np.zeros(len(X), dtype=bool)\n",
    "    np.random.seed(random_state); rnd_idx_normal = sorted(np.random.choice(normal_choice, min(len(normal_choice),int(np.round(num_blinks_normal/num_cv))), replace=False))\n",
    "    np.random.seed(random_state); rnd_idx_palsy = sorted(np.random.choice(palsy_choice, min(len(palsy_choice),int(np.round(num_blinks_palsy/num_cv))), replace=False))\n",
    "    test_mask = np.zeros(len(X), dtype=bool)\n",
    "    test_mask[df_db_offset.loc[df_db_offset['blink_number'].isin(rnd_idx_normal)].index] = True\n",
    "    test_mask[df_db_offset.loc[df_db_offset['blink_number'].isin(rnd_idx_palsy)].index] = True\n",
    "    Xtest, ytest = X[test_mask], y[test_mask]\n",
    "    Xtrain, ytrain = X[~test_mask], y[~test_mask]\n",
    "    \n",
    "    print('shapes: \\n Xtrain : {}\\n Xtest: {}\\n ytrain: {}\\n ytest: {}'.\\\n",
    "      format(Xtrain.shape, Xtest.shape, ytrain.shape, ytest.shape))\n",
    "\n",
    "    model = SVC(kernel='rbf', C=1000, gamma='scale', probability=True, random_state=0)                       # 2. instantiate model\n",
    "    model.fit(Xtrain, ytrain)                  # 3. fit model to data\n",
    "    y_model = model.predict(Xtest)             # 4. predict on new data\n",
    "    \n",
    "    df_db_test_cv = df_db.iloc[Xtest.index,:]\n",
    "    df_db_test_cv.loc[:,'prediction'] = y_model / (levels - 1)\n",
    "    \n",
    "    pred_pro = model.predict_proba(Xtest)\n",
    "    \n",
    "    for j in range(levels):\n",
    "        col_name = 'prob_' + str(j)\n",
    "        df_db_test_cv.loc[:,col_name] = pred_pro[:,j] \n",
    "    \n",
    "    if i==0:\n",
    "        df_db_test = df_db_test_cv.copy()\n",
    "    else:\n",
    "        df_db_test = pd.concat([df_db_test, df_db_test_cv])\n",
    "        \n",
    "    normal_choice = [num for num in normal_choice if not (num in rnd_idx_normal)]\n",
    "    palsy_choice = [num for num in palsy_choice if not (num in rnd_idx_palsy)]\n",
    "    \n",
    "    print(len(normal_choice))"
   ]
  },
  {
   "cell_type": "code",
   "execution_count": 176,
   "metadata": {},
   "outputs": [
    {
     "name": "stdout",
     "output_type": "stream",
     "text": [
      "Accuracy score using RBF SVM:  0.6668630917305048\n"
     ]
    },
    {
     "data": {
      "image/png": "[encoded data removed]",
      "text/plain": [
       "<Figure size 432x288 with 1 Axes>"
      ]
     },
     "metadata": {
      "needs_background": "light"
     },
     "output_type": "display_data"
    }
   ],
   "source": [
    "y_test = np.array([int(l*(levels-1)) for l in df_db_test['label']])\n",
    "y_pred = np.array([int(l*(levels-1)) for l in df_db_test['prediction']])\n",
    "\n",
    "mat = confusion_matrix(y_test, y_pred)\n",
    "sns.heatmap(mat, square=True, annot=True, cbar=False)\n",
    "plt.xlabel('predicted value')\n",
    "plt.ylabel('true value')\n",
    "\n",
    "print('Accuracy score using RBF SVM: ',accuracy_score(y_test, y_pred))"
   ]
  },
  {
   "cell_type": "code",
   "execution_count": 177,
   "metadata": {},
   "outputs": [
    {
     "name": "stdout",
     "output_type": "stream",
     "text": [
      "=== BLINK NUMBER 219 ===\n",
      "Minimum label:  0.75\n",
      "Minimum prediction:  0.75\n",
      "Palsy eye:  1\n",
      "Max prob:  0.4868106692019133\n",
      "=== BLINK NUMBER 232 ===\n",
      "Minimum label:  0.0\n",
      "Minimum prediction:  0.0\n",
      "Palsy eye:  1\n",
      "Max prob:  0.4868106692019133\n",
      "=== BLINK NUMBER 251 ===\n",
      "Minimum label:  0.75\n",
      "Minimum prediction:  0.75\n",
      "Palsy eye:  1\n",
      "Max prob:  0.4868106692019133\n",
      "=== BLINK NUMBER 258 ===\n",
      "Minimum label:  0.5\n",
      "Minimum prediction:  0.25\n",
      "Palsy eye:  1\n",
      "Max prob:  0.4868106692019133\n",
      "=== BLINK NUMBER 269 ===\n",
      "Minimum label:  0.75\n",
      "Minimum prediction:  0.75\n",
      "Palsy eye:  1\n",
      "Max prob:  0.4868106692019133\n",
      "=== BLINK NUMBER 323 ===\n",
      "Minimum label:  0.5\n",
      "Minimum prediction:  0.5\n",
      "Palsy eye:  1\n",
      "Max prob:  0.4868106692019133\n",
      "=== BLINK NUMBER 358 ===\n",
      "Minimum label:  0.75\n",
      "Minimum prediction:  0.75\n",
      "Palsy eye:  1\n",
      "Max prob:  0.4868106692019133\n",
      "=== BLINK NUMBER 363 ===\n",
      "Minimum label:  0.75\n",
      "Minimum prediction:  0.75\n",
      "Palsy eye:  1\n",
      "Max prob:  0.4868106692019133\n",
      "=== BLINK NUMBER 380 ===\n",
      "Minimum label:  0.25\n",
      "Minimum prediction:  0.5\n",
      "Palsy eye:  1\n",
      "Max prob:  0.4868106692019133\n",
      "=== BLINK NUMBER 390 ===\n",
      "Minimum label:  0.25\n",
      "Minimum prediction:  0.25\n",
      "Palsy eye:  1\n",
      "Max prob:  0.4868106692019133\n",
      "=== BLINK NUMBER 402 ===\n",
      "Minimum label:  0.5\n",
      "Minimum prediction:  0.25\n",
      "Palsy eye:  1\n",
      "Max prob:  0.4868106692019133\n",
      "=== BLINK NUMBER 413 ===\n",
      "Minimum label:  0.75\n",
      "Minimum prediction:  0.75\n",
      "Palsy eye:  1\n",
      "Max prob:  0.4868106692019133\n",
      "=== BLINK NUMBER 416 ===\n",
      "Minimum label:  0.5\n",
      "Minimum prediction:  0.0\n",
      "Palsy eye:  1\n",
      "Max prob:  0.4868106692019133\n",
      "=== BLINK NUMBER 417 ===\n",
      "Minimum label:  0.5\n",
      "Minimum prediction:  0.25\n",
      "Palsy eye:  1\n",
      "Max prob:  0.4868106692019133\n",
      "=== BLINK NUMBER 418 ===\n",
      "Minimum label:  0.5\n",
      "Minimum prediction:  0.5\n",
      "Palsy eye:  1\n",
      "Max prob:  0.4868106692019133\n",
      "=== BLINK NUMBER 224 ===\n",
      "Minimum label:  0.25\n",
      "Minimum prediction:  0.25\n",
      "Palsy eye:  1\n",
      "Max prob:  0.4868106692019133\n",
      "=== BLINK NUMBER 225 ===\n",
      "Minimum label:  0.25\n",
      "Minimum prediction:  0.0\n",
      "Palsy eye:  1\n",
      "Max prob:  0.4868106692019133\n",
      "=== BLINK NUMBER 238 ===\n",
      "Minimum label:  0.75\n",
      "Minimum prediction:  0.75\n",
      "Palsy eye:  1\n",
      "Max prob:  0.4868106692019133\n",
      "=== BLINK NUMBER 244 ===\n",
      "Minimum label:  0.75\n",
      "Minimum prediction:  0.75\n",
      "Palsy eye:  1\n",
      "Max prob:  0.4868106692019133\n",
      "=== BLINK NUMBER 250 ===\n",
      "Minimum label:  0.75\n",
      "Minimum prediction:  0.75\n",
      "Palsy eye:  1\n",
      "Max prob:  0.4868106692019133\n",
      "=== BLINK NUMBER 254 ===\n",
      "Minimum label:  0.5\n",
      "Minimum prediction:  0.5\n",
      "Palsy eye:  1\n",
      "Max prob:  0.4868106692019133\n",
      "=== BLINK NUMBER 259 ===\n",
      "Minimum label:  0.75\n",
      "Minimum prediction:  0.75\n",
      "Palsy eye:  1\n",
      "Max prob:  0.4868106692019133\n",
      "=== BLINK NUMBER 274 ===\n",
      "Minimum label:  0.75\n",
      "Minimum prediction:  0.75\n",
      "Palsy eye:  1\n",
      "Max prob:  0.4868106692019133\n",
      "=== BLINK NUMBER 291 ===\n",
      "Minimum label:  0.75\n",
      "Minimum prediction:  0.75\n",
      "Palsy eye:  1\n",
      "Max prob:  0.4868106692019133\n",
      "=== BLINK NUMBER 293 ===\n",
      "Minimum label:  0.75\n",
      "Minimum prediction:  0.75\n",
      "Palsy eye:  1\n",
      "Max prob:  0.4868106692019133\n",
      "=== BLINK NUMBER 315 ===\n",
      "Minimum label:  0.5\n",
      "Minimum prediction:  0.0\n",
      "Palsy eye:  1\n",
      "Max prob:  0.4868106692019133\n",
      "=== BLINK NUMBER 324 ===\n",
      "Minimum label:  0.5\n",
      "Minimum prediction:  0.25\n",
      "Palsy eye:  1\n",
      "Max prob:  0.4868106692019133\n",
      "=== BLINK NUMBER 330 ===\n",
      "Minimum label:  0.75\n",
      "Minimum prediction:  0.75\n",
      "Palsy eye:  1\n",
      "Max prob:  0.4868106692019133\n",
      "=== BLINK NUMBER 331 ===\n",
      "Minimum label:  0.5\n",
      "Minimum prediction:  0.25\n",
      "Palsy eye:  1\n",
      "Max prob:  0.4868106692019133\n",
      "=== BLINK NUMBER 332 ===\n",
      "Minimum label:  0.5\n",
      "Minimum prediction:  0.25\n",
      "Palsy eye:  1\n",
      "Max prob:  0.4868106692019133\n",
      "=== BLINK NUMBER 346 ===\n",
      "Minimum label:  0.75\n",
      "Minimum prediction:  0.75\n",
      "Palsy eye:  1\n",
      "Max prob:  0.4868106692019133\n",
      "=== BLINK NUMBER 348 ===\n",
      "Minimum label:  0.75\n",
      "Minimum prediction:  0.75\n",
      "Palsy eye:  1\n",
      "Max prob:  0.4868106692019133\n",
      "=== BLINK NUMBER 366 ===\n",
      "Minimum label:  0.75\n",
      "Minimum prediction:  0.75\n",
      "Palsy eye:  1\n",
      "Max prob:  0.4868106692019133\n",
      "=== BLINK NUMBER 377 ===\n",
      "Minimum label:  0.25\n",
      "Minimum prediction:  0.25\n",
      "Palsy eye:  1\n",
      "Max prob:  0.4868106692019133\n",
      "=== BLINK NUMBER 392 ===\n",
      "Minimum label:  0.25\n",
      "Minimum prediction:  0.25\n",
      "Palsy eye:  1\n",
      "Max prob:  0.4868106692019133\n",
      "=== BLINK NUMBER 415 ===\n",
      "Minimum label:  0.5\n",
      "Minimum prediction:  0.25\n",
      "Palsy eye:  1\n",
      "Max prob:  0.4868106692019133\n",
      "=== BLINK NUMBER 419 ===\n",
      "Minimum label:  0.5\n",
      "Minimum prediction:  0.75\n",
      "Palsy eye:  1\n",
      "Max prob:  0.4868106692019133\n",
      "=== BLINK NUMBER 231 ===\n",
      "Minimum label:  0.0\n",
      "Minimum prediction:  0.5\n",
      "Palsy eye:  1\n",
      "Max prob:  0.4868106692019133\n",
      "=== BLINK NUMBER 234 ===\n",
      "Minimum label:  0.0\n",
      "Minimum prediction:  0.0\n",
      "Palsy eye:  1\n",
      "Max prob:  0.4868106692019133\n",
      "=== BLINK NUMBER 237 ===\n",
      "Minimum label:  0.75\n",
      "Minimum prediction:  0.75\n",
      "Palsy eye:  1\n",
      "Max prob:  0.4868106692019133\n",
      "=== BLINK NUMBER 240 ===\n",
      "Minimum label:  0.75\n",
      "Minimum prediction:  0.75\n",
      "Palsy eye:  1\n",
      "Max prob:  0.4868106692019133\n",
      "=== BLINK NUMBER 241 ===\n",
      "Minimum label:  0.75\n",
      "Minimum prediction:  0.75\n",
      "Palsy eye:  1\n",
      "Max prob:  0.4868106692019133\n",
      "=== BLINK NUMBER 253 ===\n",
      "Minimum label:  0.75\n",
      "Minimum prediction:  0.5\n",
      "Palsy eye:  1\n",
      "Max prob:  0.4868106692019133\n",
      "=== BLINK NUMBER 256 ===\n",
      "Minimum label:  0.75\n",
      "Minimum prediction:  0.75\n",
      "Palsy eye:  1\n",
      "Max prob:  0.4868106692019133\n",
      "=== BLINK NUMBER 276 ===\n",
      "Minimum label:  0.75\n",
      "Minimum prediction:  0.75\n",
      "Palsy eye:  1\n",
      "Max prob:  0.4868106692019133\n",
      "=== BLINK NUMBER 292 ===\n",
      "Minimum label:  0.75\n",
      "Minimum prediction:  0.75\n",
      "Palsy eye:  1\n",
      "Max prob:  0.4868106692019133\n",
      "=== BLINK NUMBER 294 ===\n",
      "Minimum label:  0.75\n",
      "Minimum prediction:  0.75\n",
      "Palsy eye:  1\n",
      "Max prob:  0.4868106692019133\n",
      "=== BLINK NUMBER 299 ===\n",
      "Minimum label:  0.0\n",
      "Minimum prediction:  0.25\n",
      "Palsy eye:  1\n",
      "Max prob:  0.4868106692019133\n",
      "=== BLINK NUMBER 305 ===\n",
      "Minimum label:  0.25\n",
      "Minimum prediction:  0.5\n",
      "Palsy eye:  1\n",
      "Max prob:  0.4868106692019133\n",
      "=== BLINK NUMBER 314 ===\n",
      "Minimum label:  0.75\n",
      "Minimum prediction:  0.75\n",
      "Palsy eye:  1\n",
      "Max prob:  0.4868106692019133\n",
      "=== BLINK NUMBER 316 ===\n",
      "Minimum label:  0.75\n",
      "Minimum prediction:  0.75\n",
      "Palsy eye:  1\n",
      "Max prob:  0.4868106692019133\n",
      "=== BLINK NUMBER 359 ===\n",
      "Minimum label:  0.5\n",
      "Minimum prediction:  0.5\n",
      "Palsy eye:  1\n",
      "Max prob:  0.4868106692019133\n",
      "=== BLINK NUMBER 361 ===\n",
      "Minimum label:  0.75\n",
      "Minimum prediction:  0.75\n",
      "Palsy eye:  1\n",
      "Max prob:  0.4868106692019133\n",
      "=== BLINK NUMBER 379 ===\n",
      "Minimum label:  0.25\n",
      "Minimum prediction:  0.5\n",
      "Palsy eye:  1\n",
      "Max prob:  0.4868106692019133\n",
      "=== BLINK NUMBER 382 ===\n",
      "Minimum label:  0.25\n",
      "Minimum prediction:  0.75\n",
      "Palsy eye:  1\n",
      "Max prob:  0.4868106692019133\n",
      "=== BLINK NUMBER 393 ===\n",
      "Minimum label:  0.25\n",
      "Minimum prediction:  0.5\n",
      "Palsy eye:  1\n",
      "Max prob:  0.4868106692019133\n",
      "=== BLINK NUMBER 394 ===\n",
      "Minimum label:  0.5\n",
      "Minimum prediction:  0.5\n",
      "Palsy eye:  1\n",
      "Max prob:  0.4868106692019133\n",
      "=== BLINK NUMBER 401 ===\n",
      "Minimum label:  0.5\n",
      "Minimum prediction:  0.75\n",
      "Palsy eye:  1\n",
      "Max prob:  0.4868106692019133\n",
      "=== BLINK NUMBER 429 ===\n",
      "Minimum label:  0.25\n",
      "Minimum prediction:  0.25\n",
      "Palsy eye:  1\n",
      "Max prob:  0.4868106692019133\n",
      "=== BLINK NUMBER 431 ===\n",
      "Minimum label:  0.25\n",
      "Minimum prediction:  0.25\n",
      "Palsy eye:  1\n",
      "Max prob:  0.4868106692019133\n",
      "=== BLINK NUMBER 223 ===\n",
      "Minimum label:  0.25\n",
      "Minimum prediction:  0.25\n",
      "Palsy eye:  1\n",
      "Max prob:  0.4868106692019133\n",
      "=== BLINK NUMBER 233 ===\n",
      "Minimum label:  0.0\n",
      "Minimum prediction:  0.25\n",
      "Palsy eye:  1\n",
      "Max prob:  0.4868106692019133\n",
      "=== BLINK NUMBER 235 ===\n",
      "Minimum label:  0.0\n",
      "Minimum prediction:  0.25\n",
      "Palsy eye:  1\n",
      "Max prob:  0.4868106692019133\n",
      "=== BLINK NUMBER 236 ===\n",
      "Minimum label:  0.75\n",
      "Minimum prediction:  0.75\n",
      "Palsy eye:  1\n",
      "Max prob:  0.4868106692019133\n",
      "=== BLINK NUMBER 252 ===\n",
      "Minimum label:  0.75\n",
      "Minimum prediction:  0.75\n",
      "Palsy eye:  1\n",
      "Max prob:  0.4868106692019133\n",
      "=== BLINK NUMBER 255 ===\n",
      "Minimum label:  0.75\n",
      "Minimum prediction:  0.5\n",
      "Palsy eye:  1\n",
      "Max prob:  0.4868106692019133\n",
      "=== BLINK NUMBER 257 ===\n",
      "Minimum label:  0.5\n",
      "Minimum prediction:  0.5\n",
      "Palsy eye:  1\n",
      "Max prob:  0.4868106692019133\n",
      "=== BLINK NUMBER 271 ===\n",
      "Minimum label:  0.75\n",
      "Minimum prediction:  0.5\n",
      "Palsy eye:  1\n",
      "Max prob:  0.4868106692019133\n",
      "=== BLINK NUMBER 273 ===\n",
      "Minimum label:  0.75\n",
      "Minimum prediction:  0.75\n",
      "Palsy eye:  1\n",
      "Max prob:  0.4868106692019133\n",
      "=== BLINK NUMBER 275 ===\n",
      "Minimum label:  0.75\n",
      "Minimum prediction:  0.75\n",
      "Palsy eye:  1\n",
      "Max prob:  0.4868106692019133\n",
      "=== BLINK NUMBER 306 ===\n",
      "Minimum label:  0.25\n",
      "Minimum prediction:  0.25\n",
      "Palsy eye:  1\n",
      "Max prob:  0.4868106692019133\n",
      "=== BLINK NUMBER 317 ===\n",
      "Minimum label:  0.25\n",
      "Minimum prediction:  0.5\n",
      "Palsy eye:  1\n",
      "Max prob:  0.4868106692019133\n",
      "=== BLINK NUMBER 325 ===\n"
     ]
    },
    {
     "name": "stdout",
     "output_type": "stream",
     "text": [
      "Minimum label:  0.5\n",
      "Minimum prediction:  0.5\n",
      "Palsy eye:  1\n",
      "Max prob:  0.4868106692019133\n",
      "=== BLINK NUMBER 333 ===\n",
      "Minimum label:  0.5\n",
      "Minimum prediction:  0.5\n",
      "Palsy eye:  1\n",
      "Max prob:  0.4868106692019133\n",
      "=== BLINK NUMBER 334 ===\n",
      "Minimum label:  0.75\n",
      "Minimum prediction:  0.75\n",
      "Palsy eye:  1\n",
      "Max prob:  0.4868106692019133\n",
      "=== BLINK NUMBER 347 ===\n",
      "Minimum label:  0.75\n",
      "Minimum prediction:  0.75\n",
      "Palsy eye:  1\n",
      "Max prob:  0.4868106692019133\n",
      "=== BLINK NUMBER 350 ===\n",
      "Minimum label:  0.75\n",
      "Minimum prediction:  0.75\n",
      "Palsy eye:  1\n",
      "Max prob:  0.4868106692019133\n",
      "=== BLINK NUMBER 351 ===\n",
      "Minimum label:  0.5\n",
      "Minimum prediction:  0.5\n",
      "Palsy eye:  1\n",
      "Max prob:  0.4868106692019133\n",
      "=== BLINK NUMBER 360 ===\n",
      "Minimum label:  0.5\n",
      "Minimum prediction:  0.5\n",
      "Palsy eye:  1\n",
      "Max prob:  0.4868106692019133\n",
      "=== BLINK NUMBER 362 ===\n",
      "Minimum label:  0.5\n",
      "Minimum prediction:  0.5\n",
      "Palsy eye:  1\n",
      "Max prob:  0.4868106692019133\n",
      "=== BLINK NUMBER 378 ===\n",
      "Minimum label:  0.25\n",
      "Minimum prediction:  0.5\n",
      "Palsy eye:  1\n",
      "Max prob:  0.4868106692019133\n",
      "=== BLINK NUMBER 381 ===\n",
      "Minimum label:  0.25\n",
      "Minimum prediction:  0.25\n",
      "Palsy eye:  1\n",
      "Max prob:  0.4868106692019133\n",
      "=== BLINK NUMBER 400 ===\n",
      "Minimum label:  0.5\n",
      "Minimum prediction:  0.5\n",
      "Palsy eye:  1\n",
      "Max prob:  0.4868106692019133\n",
      "=== BLINK NUMBER 407 ===\n",
      "Minimum label:  0.25\n",
      "Minimum prediction:  0.25\n",
      "Palsy eye:  1\n",
      "Max prob:  0.4868106692019133\n",
      "=== BLINK NUMBER 408 ===\n",
      "Minimum label:  0.0\n",
      "Minimum prediction:  0.0\n",
      "Palsy eye:  1\n",
      "Max prob:  0.4868106692019133\n",
      "=== BLINK NUMBER 410 ===\n",
      "Minimum label:  0.75\n",
      "Minimum prediction:  0.75\n",
      "Palsy eye:  1\n",
      "Max prob:  0.4868106692019133\n",
      "=== BLINK NUMBER 411 ===\n",
      "Minimum label:  0.75\n",
      "Minimum prediction:  0.75\n",
      "Palsy eye:  1\n",
      "Max prob:  0.4868106692019133\n",
      "=== BLINK NUMBER 412 ===\n",
      "Minimum label:  0.5\n",
      "Minimum prediction:  0.5\n",
      "Palsy eye:  1\n",
      "Max prob:  0.4868106692019133\n",
      "=== BLINK NUMBER 414 ===\n",
      "Minimum label:  0.5\n",
      "Minimum prediction:  0.75\n",
      "Palsy eye:  1\n",
      "Max prob:  0.4868106692019133\n",
      "=== BLINK NUMBER 239 ===\n",
      "Minimum label:  0.75\n",
      "Minimum prediction:  0.75\n",
      "Palsy eye:  1\n",
      "Max prob:  0.4868106692019133\n",
      "=== BLINK NUMBER 242 ===\n",
      "Minimum label:  0.75\n",
      "Minimum prediction:  0.75\n",
      "Palsy eye:  1\n",
      "Max prob:  0.4868106692019133\n",
      "=== BLINK NUMBER 243 ===\n",
      "Minimum label:  0.75\n",
      "Minimum prediction:  0.75\n",
      "Palsy eye:  1\n",
      "Max prob:  0.4868106692019133\n",
      "=== BLINK NUMBER 245 ===\n",
      "Minimum label:  0.75\n",
      "Minimum prediction:  0.75\n",
      "Palsy eye:  1\n",
      "Max prob:  0.4868106692019133\n",
      "=== BLINK NUMBER 270 ===\n",
      "Minimum label:  0.75\n",
      "Minimum prediction:  0.75\n",
      "Palsy eye:  1\n",
      "Max prob:  0.4868106692019133\n",
      "=== BLINK NUMBER 272 ===\n",
      "Minimum label:  0.75\n",
      "Minimum prediction:  0.75\n",
      "Palsy eye:  1\n",
      "Max prob:  0.4868106692019133\n",
      "=== BLINK NUMBER 298 ===\n",
      "Minimum label:  0.25\n",
      "Minimum prediction:  0.25\n",
      "Palsy eye:  1\n",
      "Max prob:  0.4868106692019133\n",
      "=== BLINK NUMBER 300 ===\n",
      "Minimum label:  0.75\n",
      "Minimum prediction:  0.75\n",
      "Palsy eye:  1\n",
      "Max prob:  0.4868106692019133\n",
      "=== BLINK NUMBER 307 ===\n",
      "Minimum label:  0.75\n",
      "Minimum prediction:  0.75\n",
      "Palsy eye:  1\n",
      "Max prob:  0.4868106692019133\n",
      "=== BLINK NUMBER 308 ===\n",
      "Minimum label:  0.75\n",
      "Minimum prediction:  0.75\n",
      "Palsy eye:  1\n",
      "Max prob:  0.4868106692019133\n",
      "=== BLINK NUMBER 312 ===\n",
      "Minimum label:  0.75\n",
      "Minimum prediction:  0.5\n",
      "Palsy eye:  1\n",
      "Max prob:  0.4868106692019133\n",
      "=== BLINK NUMBER 313 ===\n",
      "Minimum label:  0.75\n",
      "Minimum prediction:  0.75\n",
      "Palsy eye:  1\n",
      "Max prob:  0.4868106692019133\n",
      "=== BLINK NUMBER 322 ===\n",
      "Minimum label:  0.5\n",
      "Minimum prediction:  0.5\n",
      "Palsy eye:  1\n",
      "Max prob:  0.4868106692019133\n",
      "=== BLINK NUMBER 349 ===\n",
      "Minimum label:  0.75\n",
      "Minimum prediction:  0.75\n",
      "Palsy eye:  1\n",
      "Max prob:  0.4868106692019133\n",
      "=== BLINK NUMBER 364 ===\n",
      "Minimum label:  0.5\n",
      "Minimum prediction:  0.5\n",
      "Palsy eye:  1\n",
      "Max prob:  0.4868106692019133\n",
      "=== BLINK NUMBER 365 ===\n",
      "Minimum label:  0.5\n",
      "Minimum prediction:  0.5\n",
      "Palsy eye:  1\n",
      "Max prob:  0.4868106692019133\n",
      "=== BLINK NUMBER 389 ===\n",
      "Minimum label:  0.75\n",
      "Minimum prediction:  0.75\n",
      "Palsy eye:  1\n",
      "Max prob:  0.4868106692019133\n",
      "=== BLINK NUMBER 391 ===\n",
      "Minimum label:  0.25\n",
      "Minimum prediction:  0.25\n",
      "Palsy eye:  1\n",
      "Max prob:  0.4868106692019133\n",
      "=== BLINK NUMBER 399 ===\n",
      "Minimum label:  0.75\n",
      "Minimum prediction:  0.75\n",
      "Palsy eye:  1\n",
      "Max prob:  0.4868106692019133\n",
      "=== BLINK NUMBER 409 ===\n",
      "Minimum label:  0.5\n",
      "Minimum prediction:  0.75\n",
      "Palsy eye:  1\n",
      "Max prob:  0.4868106692019133\n",
      "=== BLINK NUMBER 428 ===\n",
      "Minimum label:  0.25\n",
      "Minimum prediction:  0.25\n",
      "Palsy eye:  1\n",
      "Max prob:  0.4868106692019133\n",
      "Accuracy score:  0.7363636363636363\n"
     ]
    },
    {
     "data": {
      "image/png": "[encoded data removed]",
      "text/plain": [
       "<Figure size 432x288 with 1 Axes>"
      ]
     },
     "metadata": {
      "needs_background": "light"
     },
     "output_type": "display_data"
    }
   ],
   "source": [
    "df_db_test = df_db_test.reset_index(drop=True)\n",
    "df_db_test['max_prob'] = df_db_test[['prob_0','prob_1','prob_2','prob_3','prob_4']].max(axis=1)\n",
    "\n",
    "y_blink_test = []\n",
    "y_blink_pred = []\n",
    "\n",
    "for blink in df_db_test['blink_number'].unique():\n",
    "    palsy_eye = min(df_db_test.loc[df_db_test['blink_number'] == blink]['palsy_eye'])\n",
    "    if palsy_eye == 1:\n",
    "        print(\"=== BLINK NUMBER \" + str(blink) + \" ===\")\n",
    "        min_label = min(df_db_test.loc[df_db_test['blink_number'] == blink].iloc[1:-1,:]['label'])\n",
    "        y_blink_test.append(int(min_label * (levels - 1)))\n",
    "        min_pred  = min(df_db_test.loc[df_db_test['blink_number'] == blink].iloc[1:-1,:]['prediction'])\n",
    "        min_pred_idx = df_db_test.loc[(df_db_test['blink_number'] == blink) & (df_db_test['prediction'] == min_pred)].index\n",
    "        min_pred_mid = min_pred_idx[round(len(min_pred_idx)/2)]\n",
    "        min_locs = df_db_test.loc[df_db_test['blink_number'] == blink].loc[min_pred_mid-1:min_pred_mid+1,:]['prediction'].reset_index(drop=True)\n",
    "        if (min_pred == 0.5 and min_locs[0] == 0.75 and min_locs[2] == 0.75):\n",
    "            min_pred_final = min_pred\n",
    "        elif (min_pred == 0 and min_locs[0] == 0.75 and min_locs[2] == 1):\n",
    "            min_pred_final = min_pred\n",
    "        elif (min_pred == 0 and min_locs[0] == 0.25 and min_locs[2] == 0.5):\n",
    "            min_pred_final = min_pred\n",
    "        elif (min_pred == 0.25 and min_locs[0] == 1 and min_locs[2] == 0.75):\n",
    "            min_pred_final = min_pred\n",
    "        else:\n",
    "            min_pred_final = np.median(min_locs)\n",
    "        \n",
    "        y_blink_pred.append(int(min_pred_final * (levels - 1)))\n",
    "        print(\"Minimum label: \", min_label)\n",
    "        print(\"Minimum prediction: \", min_pred_final)\n",
    "        print(\"Palsy eye: \", palsy_eye)\n",
    "        print(\"Max prob: \", probs['max_prob'])\n",
    "\n",
    "mat = confusion_matrix(y_blink_test, y_blink_pred)\n",
    "sns.heatmap(mat, square=True, annot=True, cbar=False)\n",
    "plt.xlabel('predicted value')\n",
    "plt.ylabel('true value')\n",
    "\n",
    "print('Accuracy score: ',accuracy_score(y_blink_test, y_blink_pred))"
   ]
  },
  {
   "cell_type": "code",
   "execution_count": 119,
   "metadata": {},
   "outputs": [
    {
     "data": {
      "text/plain": [
       "755    0.50\n",
       "756    0.50\n",
       "757    0.75\n",
       "Name: prediction, dtype: float64"
      ]
     },
     "execution_count": 119,
     "metadata": {},
     "output_type": "execute_result"
    }
   ],
   "source": [
    "min_locs"
   ]
  },
  {
   "cell_type": "code",
   "execution_count": 157,
   "metadata": {},
   "outputs": [
    {
     "name": "stderr",
     "output_type": "stream",
     "text": [
      "C:\\Users\\user\\AppData\\Local\\conda\\conda\\envs\\opencv-env\\lib\\site-packages\\ipykernel_launcher.py:2: SettingWithCopyWarning: \n",
      "A value is trying to be set on a copy of a slice from a DataFrame.\n",
      "Try using .loc[row_indexer,col_indexer] = value instead\n",
      "\n",
      "See the caveats in the documentation: http://pandas.pydata.org/pandas-docs/stable/indexing.html#indexing-view-versus-copy\n",
      "  \n"
     ]
    },
    {
     "data": {
      "text/html": [
       "<div>\n",
       "<style scoped>\n",
       "    .dataframe tbody tr th:only-of-type {\n",
       "        vertical-align: middle;\n",
       "    }\n",
       "\n",
       "    .dataframe tbody tr th {\n",
       "        vertical-align: top;\n",
       "    }\n",
       "\n",
       "    .dataframe thead th {\n",
       "        text-align: right;\n",
       "    }\n",
       "</style>\n",
       "<table border=\"1\" class=\"dataframe\">\n",
       "  <thead>\n",
       "    <tr style=\"text-align: right;\">\n",
       "      <th></th>\n",
       "      <th>blink_number</th>\n",
       "      <th>video_name</th>\n",
       "      <th>frame_number</th>\n",
       "      <th>eye_location</th>\n",
       "      <th>label</th>\n",
       "      <th>prob_0</th>\n",
       "      <th>prob_1</th>\n",
       "      <th>prob_2</th>\n",
       "      <th>prob_3</th>\n",
       "      <th>prob_4</th>\n",
       "      <th>prediction</th>\n",
       "      <th>max_prob</th>\n",
       "    </tr>\n",
       "  </thead>\n",
       "  <tbody>\n",
       "    <tr>\n",
       "      <th>2811</th>\n",
       "      <td>382</td>\n",
       "      <td>palsy_17_r_30fps</td>\n",
       "      <td>206</td>\n",
       "      <td>right</td>\n",
       "      <td>1.00</td>\n",
       "      <td>0.031241</td>\n",
       "      <td>0.013162</td>\n",
       "      <td>0.013378</td>\n",
       "      <td>0.116311</td>\n",
       "      <td>0.825909</td>\n",
       "      <td>1.00</td>\n",
       "      <td>0.825909</td>\n",
       "    </tr>\n",
       "    <tr>\n",
       "      <th>2812</th>\n",
       "      <td>382</td>\n",
       "      <td>palsy_17_r_30fps</td>\n",
       "      <td>207</td>\n",
       "      <td>right</td>\n",
       "      <td>0.75</td>\n",
       "      <td>0.032419</td>\n",
       "      <td>0.014802</td>\n",
       "      <td>0.071255</td>\n",
       "      <td>0.094989</td>\n",
       "      <td>0.786535</td>\n",
       "      <td>1.00</td>\n",
       "      <td>0.786535</td>\n",
       "    </tr>\n",
       "    <tr>\n",
       "      <th>2813</th>\n",
       "      <td>382</td>\n",
       "      <td>palsy_17_r_30fps</td>\n",
       "      <td>208</td>\n",
       "      <td>right</td>\n",
       "      <td>0.50</td>\n",
       "      <td>0.056362</td>\n",
       "      <td>0.054715</td>\n",
       "      <td>0.184680</td>\n",
       "      <td>0.525341</td>\n",
       "      <td>0.178902</td>\n",
       "      <td>0.75</td>\n",
       "      <td>0.525341</td>\n",
       "    </tr>\n",
       "    <tr>\n",
       "      <th>2814</th>\n",
       "      <td>382</td>\n",
       "      <td>palsy_17_r_30fps</td>\n",
       "      <td>209</td>\n",
       "      <td>right</td>\n",
       "      <td>0.25</td>\n",
       "      <td>0.037199</td>\n",
       "      <td>0.193679</td>\n",
       "      <td>0.263610</td>\n",
       "      <td>0.502595</td>\n",
       "      <td>0.002916</td>\n",
       "      <td>0.75</td>\n",
       "      <td>0.502595</td>\n",
       "    </tr>\n",
       "    <tr>\n",
       "      <th>2815</th>\n",
       "      <td>382</td>\n",
       "      <td>palsy_17_r_30fps</td>\n",
       "      <td>210</td>\n",
       "      <td>right</td>\n",
       "      <td>0.50</td>\n",
       "      <td>0.010536</td>\n",
       "      <td>0.070181</td>\n",
       "      <td>0.252668</td>\n",
       "      <td>0.665342</td>\n",
       "      <td>0.001273</td>\n",
       "      <td>0.75</td>\n",
       "      <td>0.665342</td>\n",
       "    </tr>\n",
       "    <tr>\n",
       "      <th>2816</th>\n",
       "      <td>382</td>\n",
       "      <td>palsy_17_r_30fps</td>\n",
       "      <td>211</td>\n",
       "      <td>right</td>\n",
       "      <td>0.75</td>\n",
       "      <td>0.000603</td>\n",
       "      <td>0.002310</td>\n",
       "      <td>0.088505</td>\n",
       "      <td>0.897612</td>\n",
       "      <td>0.010970</td>\n",
       "      <td>0.75</td>\n",
       "      <td>0.897612</td>\n",
       "    </tr>\n",
       "    <tr>\n",
       "      <th>2817</th>\n",
       "      <td>382</td>\n",
       "      <td>palsy_17_r_30fps</td>\n",
       "      <td>212</td>\n",
       "      <td>right</td>\n",
       "      <td>1.00</td>\n",
       "      <td>0.000958</td>\n",
       "      <td>0.004379</td>\n",
       "      <td>0.009735</td>\n",
       "      <td>0.194274</td>\n",
       "      <td>0.790655</td>\n",
       "      <td>1.00</td>\n",
       "      <td>0.790655</td>\n",
       "    </tr>\n",
       "    <tr>\n",
       "      <th>2818</th>\n",
       "      <td>382</td>\n",
       "      <td>palsy_17_r_30fps</td>\n",
       "      <td>241</td>\n",
       "      <td>right</td>\n",
       "      <td>0.75</td>\n",
       "      <td>0.001571</td>\n",
       "      <td>0.000436</td>\n",
       "      <td>0.008255</td>\n",
       "      <td>0.142716</td>\n",
       "      <td>0.847022</td>\n",
       "      <td>1.00</td>\n",
       "      <td>0.847022</td>\n",
       "    </tr>\n",
       "  </tbody>\n",
       "</table>\n",
       "</div>"
      ],
      "text/plain": [
       "      blink_number        video_name  frame_number eye_location  label  \\\n",
       "2811           382  palsy_17_r_30fps           206        right   1.00   \n",
       "2812           382  palsy_17_r_30fps           207        right   0.75   \n",
       "2813           382  palsy_17_r_30fps           208        right   0.50   \n",
       "2814           382  palsy_17_r_30fps           209        right   0.25   \n",
       "2815           382  palsy_17_r_30fps           210        right   0.50   \n",
       "2816           382  palsy_17_r_30fps           211        right   0.75   \n",
       "2817           382  palsy_17_r_30fps           212        right   1.00   \n",
       "2818           382  palsy_17_r_30fps           241        right   0.75   \n",
       "\n",
       "        prob_0    prob_1    prob_2    prob_3    prob_4  prediction  max_prob  \n",
       "2811  0.031241  0.013162  0.013378  0.116311  0.825909        1.00  0.825909  \n",
       "2812  0.032419  0.014802  0.071255  0.094989  0.786535        1.00  0.786535  \n",
       "2813  0.056362  0.054715  0.184680  0.525341  0.178902        0.75  0.525341  \n",
       "2814  0.037199  0.193679  0.263610  0.502595  0.002916        0.75  0.502595  \n",
       "2815  0.010536  0.070181  0.252668  0.665342  0.001273        0.75  0.665342  \n",
       "2816  0.000603  0.002310  0.088505  0.897612  0.010970        0.75  0.897612  \n",
       "2817  0.000958  0.004379  0.009735  0.194274  0.790655        1.00  0.790655  \n",
       "2818  0.001571  0.000436  0.008255  0.142716  0.847022        1.00  0.847022  "
      ]
     },
     "execution_count": 157,
     "metadata": {},
     "output_type": "execute_result"
    }
   ],
   "source": [
    "df_test_prob = df_db_test[['blink_number','video_name','frame_number','eye_location','label','prob_0','prob_1','prob_2','prob_3','prob_4','prediction']]\n",
    "df_test_prob['max_prob'] = df_test_prob[['prob_0','prob_1','prob_2','prob_3','prob_4']].max(axis=1)\n",
    "#df_test_conf = df_test_prob.loc[df_test_prob['max_prob'] < 0.5, :]\n",
    "df_test_prob.loc[df_test_prob['blink_number'] == 382]"
   ]
  },
  {
   "cell_type": "code",
   "execution_count": null,
   "metadata": {},
   "outputs": [],
   "source": []
  }
 ],
 "metadata": {
  "kernelspec": {
   "display_name": "Python 3",
   "language": "python",
   "name": "python3"
  },
  "language_info": {
   "codemirror_mode": {
    "name": "ipython",
    "version": 3
   },
   "file_extension": ".py",
   "mimetype": "text/x-python",
   "name": "python",
   "nbconvert_exporter": "python",
   "pygments_lexer": "ipython3",
   "version": "3.6.6"
  }
 },
 "nbformat": 4,
 "nbformat_minor": 2
}
